{
 "cells": [
  {
   "cell_type": "code",
   "execution_count": 57,
   "metadata": {},
   "outputs": [
    {
     "name": "stdout",
     "output_type": "stream",
     "text": [
      "The autoreload extension is already loaded. To reload it, use:\n",
      "  %reload_ext autoreload\n"
     ]
    }
   ],
   "source": [
    "\n",
    "%load_ext autoreload\n",
    "%autoreload 2"
   ]
  },
  {
   "cell_type": "code",
   "execution_count": 58,
   "metadata": {},
   "outputs": [],
   "source": [
    "from models.model_fpgan import FPGANSynthesizer\n",
    "\n",
    "import ctgan\n",
    "from sklearn.datasets import load_breast_cancer\n",
    "from sklearn.model_selection import train_test_split\n",
    "from utils.utils import eval_dataset\n",
    "\n",
    "import matplotlib.pyplot as plt\n",
    "import numpy as np\n",
    "import pandas as pd"
   ]
  },
  {
   "cell_type": "code",
   "execution_count": 59,
   "metadata": {},
   "outputs": [
    {
     "data": {
      "text/html": [
       "<div>\n",
       "<style scoped>\n",
       "    .dataframe tbody tr th:only-of-type {\n",
       "        vertical-align: middle;\n",
       "    }\n",
       "\n",
       "    .dataframe tbody tr th {\n",
       "        vertical-align: top;\n",
       "    }\n",
       "\n",
       "    .dataframe thead th {\n",
       "        text-align: right;\n",
       "    }\n",
       "</style>\n",
       "<table border=\"1\" class=\"dataframe\">\n",
       "  <thead>\n",
       "    <tr style=\"text-align: right;\">\n",
       "      <th></th>\n",
       "      <th>age</th>\n",
       "      <th>gender</th>\n",
       "      <th>height</th>\n",
       "      <th>weight</th>\n",
       "      <th>ap_hi</th>\n",
       "      <th>ap_lo</th>\n",
       "      <th>cholesterol</th>\n",
       "      <th>gluc</th>\n",
       "      <th>smoke</th>\n",
       "      <th>alco</th>\n",
       "      <th>active</th>\n",
       "      <th>cardio</th>\n",
       "    </tr>\n",
       "  </thead>\n",
       "  <tbody>\n",
       "    <tr>\n",
       "      <th>0</th>\n",
       "      <td>18393</td>\n",
       "      <td>2</td>\n",
       "      <td>168</td>\n",
       "      <td>62.0</td>\n",
       "      <td>110</td>\n",
       "      <td>80</td>\n",
       "      <td>1</td>\n",
       "      <td>1</td>\n",
       "      <td>0</td>\n",
       "      <td>0</td>\n",
       "      <td>1</td>\n",
       "      <td>0</td>\n",
       "    </tr>\n",
       "    <tr>\n",
       "      <th>1</th>\n",
       "      <td>20228</td>\n",
       "      <td>1</td>\n",
       "      <td>156</td>\n",
       "      <td>85.0</td>\n",
       "      <td>140</td>\n",
       "      <td>90</td>\n",
       "      <td>3</td>\n",
       "      <td>1</td>\n",
       "      <td>0</td>\n",
       "      <td>0</td>\n",
       "      <td>1</td>\n",
       "      <td>1</td>\n",
       "    </tr>\n",
       "    <tr>\n",
       "      <th>2</th>\n",
       "      <td>18857</td>\n",
       "      <td>1</td>\n",
       "      <td>165</td>\n",
       "      <td>64.0</td>\n",
       "      <td>130</td>\n",
       "      <td>70</td>\n",
       "      <td>3</td>\n",
       "      <td>1</td>\n",
       "      <td>0</td>\n",
       "      <td>0</td>\n",
       "      <td>0</td>\n",
       "      <td>1</td>\n",
       "    </tr>\n",
       "    <tr>\n",
       "      <th>3</th>\n",
       "      <td>17623</td>\n",
       "      <td>2</td>\n",
       "      <td>169</td>\n",
       "      <td>82.0</td>\n",
       "      <td>150</td>\n",
       "      <td>100</td>\n",
       "      <td>1</td>\n",
       "      <td>1</td>\n",
       "      <td>0</td>\n",
       "      <td>0</td>\n",
       "      <td>1</td>\n",
       "      <td>1</td>\n",
       "    </tr>\n",
       "    <tr>\n",
       "      <th>4</th>\n",
       "      <td>17474</td>\n",
       "      <td>1</td>\n",
       "      <td>156</td>\n",
       "      <td>56.0</td>\n",
       "      <td>100</td>\n",
       "      <td>60</td>\n",
       "      <td>1</td>\n",
       "      <td>1</td>\n",
       "      <td>0</td>\n",
       "      <td>0</td>\n",
       "      <td>0</td>\n",
       "      <td>0</td>\n",
       "    </tr>\n",
       "  </tbody>\n",
       "</table>\n",
       "</div>"
      ],
      "text/plain": [
       "     age  gender  height  weight  ap_hi  ap_lo  cholesterol  gluc  smoke  \\\n",
       "0  18393       2     168    62.0    110     80            1     1      0   \n",
       "1  20228       1     156    85.0    140     90            3     1      0   \n",
       "2  18857       1     165    64.0    130     70            3     1      0   \n",
       "3  17623       2     169    82.0    150    100            1     1      0   \n",
       "4  17474       1     156    56.0    100     60            1     1      0   \n",
       "\n",
       "   alco  active  cardio  \n",
       "0     0       1       0  \n",
       "1     0       1       1  \n",
       "2     0       0       1  \n",
       "3     0       1       1  \n",
       "4     0       0       0  "
      ]
     },
     "execution_count": 59,
     "metadata": {},
     "output_type": "execute_result"
    }
   ],
   "source": [
    "data = pd.read_csv(\"D:/Datasets/cardiovascular/cardio.csv\",sep=\";\")\n",
    "data = data.drop(columns=['id'])\n",
    "data.head()"
   ]
  },
  {
   "cell_type": "code",
   "execution_count": 60,
   "metadata": {},
   "outputs": [
    {
     "data": {
      "text/html": [
       "<div>\n",
       "<style scoped>\n",
       "    .dataframe tbody tr th:only-of-type {\n",
       "        vertical-align: middle;\n",
       "    }\n",
       "\n",
       "    .dataframe tbody tr th {\n",
       "        vertical-align: top;\n",
       "    }\n",
       "\n",
       "    .dataframe thead th {\n",
       "        text-align: right;\n",
       "    }\n",
       "</style>\n",
       "<table border=\"1\" class=\"dataframe\">\n",
       "  <thead>\n",
       "    <tr style=\"text-align: right;\">\n",
       "      <th></th>\n",
       "      <th>age</th>\n",
       "      <th>gender</th>\n",
       "      <th>height</th>\n",
       "      <th>weight</th>\n",
       "      <th>ap_hi</th>\n",
       "      <th>ap_lo</th>\n",
       "      <th>cholesterol</th>\n",
       "      <th>gluc</th>\n",
       "      <th>smoke</th>\n",
       "      <th>alco</th>\n",
       "      <th>active</th>\n",
       "      <th>cardio</th>\n",
       "    </tr>\n",
       "  </thead>\n",
       "  <tbody>\n",
       "    <tr>\n",
       "      <th>0</th>\n",
       "      <td>0.588076</td>\n",
       "      <td>1.0</td>\n",
       "      <td>0.579487</td>\n",
       "      <td>0.273684</td>\n",
       "      <td>0.016079</td>\n",
       "      <td>0.013550</td>\n",
       "      <td>0.0</td>\n",
       "      <td>0.0</td>\n",
       "      <td>0.0</td>\n",
       "      <td>0.0</td>\n",
       "      <td>1.0</td>\n",
       "      <td>0.0</td>\n",
       "    </tr>\n",
       "    <tr>\n",
       "      <th>1</th>\n",
       "      <td>0.730159</td>\n",
       "      <td>0.0</td>\n",
       "      <td>0.517949</td>\n",
       "      <td>0.394737</td>\n",
       "      <td>0.017934</td>\n",
       "      <td>0.014453</td>\n",
       "      <td>1.0</td>\n",
       "      <td>0.0</td>\n",
       "      <td>0.0</td>\n",
       "      <td>0.0</td>\n",
       "      <td>1.0</td>\n",
       "      <td>1.0</td>\n",
       "    </tr>\n",
       "    <tr>\n",
       "      <th>2</th>\n",
       "      <td>0.624003</td>\n",
       "      <td>0.0</td>\n",
       "      <td>0.564103</td>\n",
       "      <td>0.284211</td>\n",
       "      <td>0.017316</td>\n",
       "      <td>0.012647</td>\n",
       "      <td>1.0</td>\n",
       "      <td>0.0</td>\n",
       "      <td>0.0</td>\n",
       "      <td>0.0</td>\n",
       "      <td>0.0</td>\n",
       "      <td>1.0</td>\n",
       "    </tr>\n",
       "    <tr>\n",
       "      <th>3</th>\n",
       "      <td>0.528455</td>\n",
       "      <td>1.0</td>\n",
       "      <td>0.584615</td>\n",
       "      <td>0.378947</td>\n",
       "      <td>0.018553</td>\n",
       "      <td>0.015357</td>\n",
       "      <td>0.0</td>\n",
       "      <td>0.0</td>\n",
       "      <td>0.0</td>\n",
       "      <td>0.0</td>\n",
       "      <td>1.0</td>\n",
       "      <td>1.0</td>\n",
       "    </tr>\n",
       "    <tr>\n",
       "      <th>4</th>\n",
       "      <td>0.516918</td>\n",
       "      <td>0.0</td>\n",
       "      <td>0.517949</td>\n",
       "      <td>0.242105</td>\n",
       "      <td>0.015461</td>\n",
       "      <td>0.011743</td>\n",
       "      <td>0.0</td>\n",
       "      <td>0.0</td>\n",
       "      <td>0.0</td>\n",
       "      <td>0.0</td>\n",
       "      <td>0.0</td>\n",
       "      <td>0.0</td>\n",
       "    </tr>\n",
       "  </tbody>\n",
       "</table>\n",
       "</div>"
      ],
      "text/plain": [
       "        age  gender    height    weight     ap_hi     ap_lo  cholesterol  \\\n",
       "0  0.588076     1.0  0.579487  0.273684  0.016079  0.013550          0.0   \n",
       "1  0.730159     0.0  0.517949  0.394737  0.017934  0.014453          1.0   \n",
       "2  0.624003     0.0  0.564103  0.284211  0.017316  0.012647          1.0   \n",
       "3  0.528455     1.0  0.584615  0.378947  0.018553  0.015357          0.0   \n",
       "4  0.516918     0.0  0.517949  0.242105  0.015461  0.011743          0.0   \n",
       "\n",
       "   gluc  smoke  alco  active  cardio  \n",
       "0   0.0    0.0   0.0     1.0     0.0  \n",
       "1   0.0    0.0   0.0     1.0     1.0  \n",
       "2   0.0    0.0   0.0     0.0     1.0  \n",
       "3   0.0    0.0   0.0     1.0     1.0  \n",
       "4   0.0    0.0   0.0     0.0     0.0  "
      ]
     },
     "execution_count": 60,
     "metadata": {},
     "output_type": "execute_result"
    }
   ],
   "source": [
    "#normalized_data=(data-data.mean())/data.std()\n",
    "data=(data-data.min())/(data.max()-data.min())\n",
    "data.head()"
   ]
  },
  {
   "cell_type": "code",
   "execution_count": 61,
   "metadata": {},
   "outputs": [],
   "source": [
    "target = 'cardio'"
   ]
  },
  {
   "cell_type": "code",
   "execution_count": 62,
   "metadata": {},
   "outputs": [],
   "source": [
    "X = data.drop(columns=[target])\n",
    "#normalize data\n",
    "#X=(X-X.mean())/X.std()\n",
    "y = data[target]"
   ]
  },
  {
   "cell_type": "code",
   "execution_count": 63,
   "metadata": {},
   "outputs": [
    {
     "name": "stdout",
     "output_type": "stream",
     "text": [
      "Epoch 1, Loss G: -0.4450,Loss D:  0.3625\n",
      "Epoch 2, Loss G: -0.8714,Loss D:  0.2556\n",
      "Epoch 3, Loss G: -0.7045,Loss D:  0.5183\n",
      "Epoch 4, Loss G: -0.4001,Loss D:  0.5635\n",
      "Epoch 5, Loss G: -0.1393,Loss D:  0.6370\n",
      "Epoch 6, Loss G: -0.1290,Loss D:  0.4614\n",
      "Epoch 7, Loss G: -0.2147,Loss D:  0.6790\n",
      "Epoch 8, Loss G: -0.4528,Loss D:  0.5527\n",
      "Epoch 9, Loss G: -0.5855,Loss D:  0.2729\n",
      "Epoch 10, Loss G: -0.3465,Loss D:  0.1843\n",
      "Epoch 11, Loss G: -0.3250,Loss D: -0.0488\n",
      "Epoch 12, Loss G: -0.5427,Loss D: -0.1660\n",
      "Epoch 13, Loss G: -0.4145,Loss D:  0.2818\n",
      "Epoch 14, Loss G: -0.5269,Loss D:  0.0890\n",
      "Epoch 15, Loss G: -0.6555,Loss D: -0.0509\n",
      "Epoch 16, Loss G: -0.5535,Loss D:  0.1169\n",
      "Epoch 17, Loss G: -0.3958,Loss D:  0.0747\n",
      "Epoch 18, Loss G: -0.4215,Loss D: -0.0049\n",
      "Epoch 19, Loss G: -0.6032,Loss D:  0.0013\n",
      "Epoch 20, Loss G: -0.5570,Loss D: -0.3986\n",
      "Epoch 21, Loss G: -0.5374,Loss D: -0.0842\n",
      "Epoch 22, Loss G: -0.5351,Loss D: -0.2312\n",
      "Epoch 23, Loss G: -0.7370,Loss D: -0.0843\n",
      "Epoch 24, Loss G: -0.9208,Loss D: -0.1740\n",
      "Epoch 25, Loss G: -0.4657,Loss D:  0.3125\n",
      "Epoch 26, Loss G: -0.6402,Loss D:  0.3748\n",
      "Epoch 27, Loss G: -0.3598,Loss D: -0.0641\n",
      "Epoch 28, Loss G: -0.6475,Loss D: -0.0232\n",
      "Epoch 29, Loss G: -0.4842,Loss D:  0.0487\n",
      "Epoch 30, Loss G: -0.6599,Loss D: -0.3813\n",
      "Epoch 31, Loss G: -0.6867,Loss D: -0.0314\n",
      "Epoch 32, Loss G: -0.5890,Loss D:  0.0234\n",
      "Epoch 33, Loss G: -0.6009,Loss D:  0.1667\n",
      "Epoch 34, Loss G: -0.7105,Loss D:  0.0161\n",
      "Epoch 35, Loss G: -0.6292,Loss D:  0.2427\n",
      "Epoch 36, Loss G: -0.6874,Loss D:  0.1426\n",
      "Epoch 37, Loss G: -0.3830,Loss D: -0.0439\n",
      "Epoch 38, Loss G: -0.8985,Loss D: -0.2911\n",
      "Epoch 39, Loss G: -0.7571,Loss D: -0.0908\n",
      "Epoch 40, Loss G: -0.8500,Loss D: -0.2262\n",
      "Epoch 41, Loss G: -0.2227,Loss D:  0.1462\n",
      "Epoch 42, Loss G: -0.6548,Loss D: -0.2495\n",
      "Epoch 43, Loss G: -0.7238,Loss D: -0.0119\n",
      "Epoch 44, Loss G: -0.6362,Loss D: -0.2196\n",
      "Epoch 45, Loss G: -0.7483,Loss D: -0.0278\n"
     ]
    }
   ],
   "source": [
    "model_ctgan = FPGANSynthesizer(epochs=45, verbose=True)\n",
    "model_ctgan.fit(data)"
   ]
  },
  {
   "cell_type": "code",
   "execution_count": 64,
   "metadata": {},
   "outputs": [],
   "source": [
    "samples = model_ctgan.sample(len(data))  # Synthetic copy\n",
    "samples.dropna(how='any', inplace=True)\n",
    "\n",
    "X_syn = samples.drop(columns=[target])\n",
    "y_syn = samples[target]\n",
    "y_syn = y_syn.round(0)\n",
    "y_syn = y_syn.astype(int)"
   ]
  },
  {
   "cell_type": "code",
   "execution_count": 65,
   "metadata": {},
   "outputs": [],
   "source": [
    "#normalized_samples=(samples-samples.min())/(samples.max()-samples.min())"
   ]
  },
  {
   "attachments": {},
   "cell_type": "markdown",
   "metadata": {},
   "source": [
    "## Privacy"
   ]
  },
  {
   "cell_type": "code",
   "execution_count": 66,
   "metadata": {},
   "outputs": [],
   "source": [
    "import numpy as np\n",
    "\n",
    "def get_nearest(src_point, candidates):\n",
    "    min_dist = 1000\n",
    "    min_index = 0\n",
    "    for i in range(len(candidates)):\n",
    "        dist = np.linalg.norm(src_point - candidates.iloc[[i]])\n",
    "        print(candidates.iloc[[i]])\n",
    "        print(\"{:.2f}\".format(dist))\n",
    "        if dist < min_dist:\n",
    "            min_dist = dist\n",
    "            min_index = i\n",
    "\n",
    "    return min_index, min_dist"
   ]
  },
  {
   "cell_type": "code",
   "execution_count": 67,
   "metadata": {},
   "outputs": [],
   "source": [
    "from sklearn.neighbors import BallTree\n",
    "\n",
    "def get_nearest(src_points, candidates, k_neighbors=1):\n",
    "    '''\n",
    "    Find nearest neighbors for all source points from a set of candidate points\n",
    "    '''\n",
    "    # Create tree from the candidate points\n",
    "    #knn = NearestNeighbors(n_neighbors=3)\n",
    "    tree = BallTree(candidates, leaf_size=15, metric='euclidean')\n",
    "    # Find closest points and distances\n",
    "    distances, indices = tree.query(src_points, k=k_neighbors)\n",
    "    # Transpose to get distances and indices into arrays\n",
    "    distances = distances.transpose()\n",
    "    indices = indices.transpose()\n",
    "    # Get closest indices and distances (i.e. array at index 0)\n",
    "    # note: for the second closest points, you would take index 1, etc.\n",
    "    closest = indices[0]\n",
    "    closest_dist = distances[0]\n",
    "    # Return indices and distances\n",
    "    return closest, closest_dist"
   ]
  },
  {
   "cell_type": "code",
   "execution_count": 68,
   "metadata": {},
   "outputs": [],
   "source": [
    "def avg_dist(src_points, candidates):\n",
    "    sum_dist = 0\n",
    "    for i in range(len(src_points)):\n",
    "        index, dist = get_nearest(src_points.iloc[[i]], candidates)\n",
    "        sum_dist += dist\n",
    "        \n",
    "    return sum_dist/i \n"
   ]
  },
  {
   "cell_type": "code",
   "execution_count": 69,
   "metadata": {},
   "outputs": [],
   "source": [
    "samples = samples.apply(pd.to_numeric) # convert all columns of DataFrame\n",
    "data = data.apply(pd.to_numeric) # convert all columns of DataFrame"
   ]
  },
  {
   "cell_type": "code",
   "execution_count": 70,
   "metadata": {},
   "outputs": [
    {
     "name": "stdout",
     "output_type": "stream",
     "text": [
      "[66241] [0.00898572]\n"
     ]
    }
   ],
   "source": [
    "# example\n",
    "closest, dist = get_nearest(samples.iloc[[0]], data)\n",
    "print(closest, dist)"
   ]
  },
  {
   "cell_type": "code",
   "execution_count": 71,
   "metadata": {},
   "outputs": [],
   "source": [
    "avg_distance = avg_dist(samples[:1000], data[:1000])"
   ]
  },
  {
   "cell_type": "code",
   "execution_count": 72,
   "metadata": {},
   "outputs": [
    {
     "name": "stdout",
     "output_type": "stream",
     "text": [
      "[0.21897857]\n"
     ]
    }
   ],
   "source": [
    "print(avg_distance)"
   ]
  },
  {
   "cell_type": "code",
   "execution_count": 73,
   "metadata": {},
   "outputs": [
    {
     "name": "stdout",
     "output_type": "stream",
     "text": [
      "[0.06321367]\n"
     ]
    }
   ],
   "source": [
    "# the maximum possible distance between two normalized vectors is sqrt(n), so you would divide the Euclidean distance between the two vectors by sqrt(n)\n",
    "# Ex: 2D space, the maximum distance between two points is the square root of 2 \n",
    "normalized_avg_distance = avg_distance/np.sqrt(len(data.columns))\n",
    "print(normalized_avg_distance)"
   ]
  },
  {
   "attachments": {},
   "cell_type": "markdown",
   "metadata": {},
   "source": [
    "## Fidelity"
   ]
  },
  {
   "cell_type": "code",
   "execution_count": 74,
   "metadata": {},
   "outputs": [],
   "source": [
    "from sklearn.ensemble import AdaBoostClassifier, RandomForestClassifier\n",
    "\n",
    "def get_predictions(X_train, y_train, X_test, y_test):\n",
    "    learners = [(AdaBoostClassifier(n_estimators=50))]\n",
    "    #learners = [(RandomForestClassifier())]\n",
    "\n",
    "    history = dict()\n",
    "\n",
    "    for i in range(len(learners)):\n",
    "        model = learners[i]\n",
    "        model.fit(X_train, y_train)\n",
    "\n",
    "        #first letter is data where it trained, second is data where it tested\n",
    "        pred = []\n",
    "\n",
    "        for j in range (len(X_test)):\n",
    "            #print(X_test.loc[[j]])\n",
    "            pred.append(model.predict(X_test.iloc[[j]]))\n",
    "        \n",
    "    return pred"
   ]
  },
  {
   "cell_type": "code",
   "execution_count": 75,
   "metadata": {},
   "outputs": [],
   "source": [
    "X_train, X_test, y_train, y_test = train_test_split(X, y, test_size=0.3, random_state=42)\n",
    "\n",
    "X_syn_train, X_syn_test, y_syn_train, y_syn_test = train_test_split(X_syn, y_syn, test_size=0.3, random_state=42)\n",
    "\n",
    "rr_pred = []\n",
    "fr_pred = []\n",
    "ff_pred = []\n",
    "rf_pred = []\n",
    "\n",
    "rr_pred = get_predictions(X_train, y_train, X_test, y_test)\n",
    "fr_pred = get_predictions(X_syn_train, y_syn_train, X_test, y_test)"
   ]
  },
  {
   "cell_type": "code",
   "execution_count": 76,
   "metadata": {},
   "outputs": [],
   "source": [
    "rf_pred = get_predictions(X_train, y_train, X_syn_test, y_syn_test)\n",
    "ff_pred = get_predictions(X_syn_train, y_syn_train, X_syn_test, y_syn_test)"
   ]
  },
  {
   "cell_type": "code",
   "execution_count": 77,
   "metadata": {},
   "outputs": [
    {
     "data": {
      "image/png": "[encoded data removed]",
      "text/plain": [
       "<Figure size 432x288 with 2 Axes>"
      ]
     },
     "metadata": {
      "needs_background": "light"
     },
     "output_type": "display_data"
    },
    {
     "data": {
      "image/png": "[encoded data removed]",
      "text/plain": [
       "<Figure size 432x288 with 2 Axes>"
      ]
     },
     "metadata": {
      "needs_background": "light"
     },
     "output_type": "display_data"
    }
   ],
   "source": [
    "from sklearn import metrics\n",
    "def print_confusion_matrix(rr_pred, fr_pred, rf_pred, ff_pred):\n",
    "    confusion_matrix1 = metrics.confusion_matrix(rr_pred, fr_pred)\n",
    "    confusion_matrix2 = metrics.confusion_matrix(fr_pred, ff_pred)\n",
    "\n",
    "    cm_display1 = metrics.ConfusionMatrixDisplay(confusion_matrix = confusion_matrix1, display_labels = [False, True])\n",
    "    cm_display2 = metrics.ConfusionMatrixDisplay(confusion_matrix = confusion_matrix2, display_labels = [False, True])\n",
    "\n",
    "    cm_display1.plot()\n",
    "    cm_display2.plot()\n",
    "    plt.show()\n",
    "    \n",
    "print_confusion_matrix(rr_pred, fr_pred, rf_pred, ff_pred)"
   ]
  },
  {
   "cell_type": "code",
   "execution_count": 78,
   "metadata": {},
   "outputs": [],
   "source": [
    "def eval_fidelity(pred1, pred2):\n",
    "    same_pred = 0\n",
    "    dif_pred = 0\n",
    "    if len(pred1) != len(pred2):\n",
    "        print(\"Error: different sizes\")\n",
    "    \n",
    "    for i in range(len(pred1)):\n",
    "        if pred1[i] == pred2[i]:\n",
    "            same_pred += 1\n",
    "        else:\n",
    "            dif_pred += 1\n",
    "\n",
    "    return same_pred, dif_pred\n"
   ]
  },
  {
   "cell_type": "code",
   "execution_count": 79,
   "metadata": {},
   "outputs": [],
   "source": [
    "same_pred, dif_pred = eval_fidelity(rr_pred, fr_pred)"
   ]
  },
  {
   "cell_type": "code",
   "execution_count": 80,
   "metadata": {},
   "outputs": [
    {
     "name": "stdout",
     "output_type": "stream",
     "text": [
      "9096 11904\n"
     ]
    }
   ],
   "source": [
    "print(same_pred, dif_pred)"
   ]
  },
  {
   "cell_type": "code",
   "execution_count": 81,
   "metadata": {},
   "outputs": [],
   "source": [
    "percentage = same_pred / (same_pred + dif_pred)"
   ]
  },
  {
   "attachments": {},
   "cell_type": "markdown",
   "metadata": {},
   "source": [
    "## Final plot"
   ]
  },
  {
   "cell_type": "code",
   "execution_count": 82,
   "metadata": {},
   "outputs": [
    {
     "data": {
      "image/png": "[encoded data removed]",
      "text/plain": [
       "<Figure size 432x288 with 1 Axes>"
      ]
     },
     "metadata": {
      "needs_background": "light"
     },
     "output_type": "display_data"
    }
   ],
   "source": [
    "plt.scatter(percentage, normalized_avg_distance, c =\"blue\")\n",
    "plt.xlabel(\"fidelity\")\n",
    "plt.ylabel(\"privacy\")\n",
    "plt.show()"
   ]
  }
 ],
 "metadata": {
  "kernelspec": {
   "display_name": "base",
   "language": "python",
   "name": "python3"
  },
  "language_info": {
   "codemirror_mode": {
    "name": "ipython",
    "version": 3
   },
   "file_extension": ".py",
   "mimetype": "text/x-python",
   "name": "python",
   "nbconvert_exporter": "python",
   "pygments_lexer": "ipython3",
   "version": "3.9.7"
  },
  "orig_nbformat": 4
 },
 "nbformat": 4,
 "nbformat_minor": 2
}
