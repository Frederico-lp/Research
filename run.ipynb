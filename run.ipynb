{
 "cells": [
  {
   "attachments": {},
   "cell_type": "markdown",
   "metadata": {},
   "source": [
    "## epileptic seizure"
   ]
  },
  {
   "cell_type": "code",
   "execution_count": 4,
   "metadata": {},
   "outputs": [],
   "source": [
    "from sklearn.datasets import load_breast_cancer\n",
    "from main import *\n",
    "\n",
    "%load_ext autoreload\n",
    "%autoreload 2"
   ]
  },
  {
   "cell_type": "code",
   "execution_count": 5,
   "metadata": {},
   "outputs": [
    {
     "name": "stdout",
     "output_type": "stream",
     "text": [
      "Initializing class...\n",
      "Init CTGAN with differential privacy.  Target epsilon: 1\n",
      "Preparing data...\n"
     ]
    },
    {
     "ename": "KeyError",
     "evalue": "\"['None'] not found in axis\"",
     "output_type": "error",
     "traceback": [
      "\u001b[1;31m---------------------------------------------------------------------------\u001b[0m",
      "\u001b[1;31mKeyError\u001b[0m                                  Traceback (most recent call last)",
      "\u001b[1;32md:\\bolsa\\Research\\run.ipynb Cell 4\u001b[0m in \u001b[0;36m<cell line: 3>\u001b[1;34m()\u001b[0m\n\u001b[0;32m      <a href='vscode-notebook-cell:/d%3A/bolsa/Research/run.ipynb#W2sZmlsZQ%3D%3D?line=0'>1</a>\u001b[0m run \u001b[39m=\u001b[39m Main(\u001b[39m\"\u001b[39m\u001b[39mD:/Datasets/diabetes/diabetes_012_health_indicators_BRFSS2015.csv\u001b[39m\u001b[39m\"\u001b[39m, \u001b[39m'\u001b[39m\u001b[39mDiabetes_012\u001b[39m\u001b[39m'\u001b[39m)\n\u001b[1;32m----> <a href='vscode-notebook-cell:/d%3A/bolsa/Research/run.ipynb#W2sZmlsZQ%3D%3D?line=2'>3</a>\u001b[0m data, X, y \u001b[39m=\u001b[39m run\u001b[39m.\u001b[39;49mprepare_data(drop_columns\u001b[39m=\u001b[39;49m\u001b[39m'\u001b[39;49m\u001b[39mNone\u001b[39;49m\u001b[39m'\u001b[39;49m)\n\u001b[0;32m      <a href='vscode-notebook-cell:/d%3A/bolsa/Research/run.ipynb#W2sZmlsZQ%3D%3D?line=4'>5</a>\u001b[0m run\u001b[39m.\u001b[39mtrain(data)\n\u001b[0;32m      <a href='vscode-notebook-cell:/d%3A/bolsa/Research/run.ipynb#W2sZmlsZQ%3D%3D?line=6'>7</a>\u001b[0m run\u001b[39m.\u001b[39msave_models(\u001b[39m'\u001b[39m\u001b[39mdiabetes\u001b[39m\u001b[39m'\u001b[39m)\n",
      "File \u001b[1;32md:\\bolsa\\Research\\main.py:42\u001b[0m, in \u001b[0;36mMain.prepare_data\u001b[1;34m(self, sep, drop_columns, flag)\u001b[0m\n\u001b[0;32m     39\u001b[0m     df \u001b[39m=\u001b[39m pd\u001b[39m.\u001b[39mread_csv(\u001b[39mself\u001b[39m\u001b[39m.\u001b[39mdataset, sep \u001b[39m=\u001b[39m sep)\n\u001b[0;32m     41\u001b[0m \u001b[39mif\u001b[39;00m drop_columns \u001b[39mis\u001b[39;00m \u001b[39mnot\u001b[39;00m \u001b[39mNone\u001b[39;00m:\n\u001b[1;32m---> 42\u001b[0m     df \u001b[39m=\u001b[39m df\u001b[39m.\u001b[39;49mdrop(columns\u001b[39m=\u001b[39;49m[drop_columns])\n\u001b[0;32m     44\u001b[0m df \u001b[39m=\u001b[39m df\u001b[39m.\u001b[39mapply(pd\u001b[39m.\u001b[39mto_numeric)\n\u001b[0;32m     46\u001b[0m \u001b[39mif\u001b[39;00m flag \u001b[39m==\u001b[39m \u001b[39m1\u001b[39m:\n",
      "File \u001b[1;32mc:\\Users\\Frederico\\Anaconda3\\lib\\site-packages\\pandas\\util\\_decorators.py:311\u001b[0m, in \u001b[0;36mdeprecate_nonkeyword_arguments.<locals>.decorate.<locals>.wrapper\u001b[1;34m(*args, **kwargs)\u001b[0m\n\u001b[0;32m    305\u001b[0m \u001b[39mif\u001b[39;00m \u001b[39mlen\u001b[39m(args) \u001b[39m>\u001b[39m num_allow_args:\n\u001b[0;32m    306\u001b[0m     warnings\u001b[39m.\u001b[39mwarn(\n\u001b[0;32m    307\u001b[0m         msg\u001b[39m.\u001b[39mformat(arguments\u001b[39m=\u001b[39marguments),\n\u001b[0;32m    308\u001b[0m         \u001b[39mFutureWarning\u001b[39;00m,\n\u001b[0;32m    309\u001b[0m         stacklevel\u001b[39m=\u001b[39mstacklevel,\n\u001b[0;32m    310\u001b[0m     )\n\u001b[1;32m--> 311\u001b[0m \u001b[39mreturn\u001b[39;00m func(\u001b[39m*\u001b[39margs, \u001b[39m*\u001b[39m\u001b[39m*\u001b[39mkwargs)\n",
      "File \u001b[1;32mc:\\Users\\Frederico\\Anaconda3\\lib\\site-packages\\pandas\\core\\frame.py:4906\u001b[0m, in \u001b[0;36mDataFrame.drop\u001b[1;34m(self, labels, axis, index, columns, level, inplace, errors)\u001b[0m\n\u001b[0;32m   4774\u001b[0m \u001b[39m@deprecate_nonkeyword_arguments\u001b[39m(version\u001b[39m=\u001b[39m\u001b[39mNone\u001b[39;00m, allowed_args\u001b[39m=\u001b[39m[\u001b[39m\"\u001b[39m\u001b[39mself\u001b[39m\u001b[39m\"\u001b[39m, \u001b[39m\"\u001b[39m\u001b[39mlabels\u001b[39m\u001b[39m\"\u001b[39m])\n\u001b[0;32m   4775\u001b[0m \u001b[39mdef\u001b[39;00m \u001b[39mdrop\u001b[39m(\n\u001b[0;32m   4776\u001b[0m     \u001b[39mself\u001b[39m,\n\u001b[1;32m   (...)\u001b[0m\n\u001b[0;32m   4783\u001b[0m     errors: \u001b[39mstr\u001b[39m \u001b[39m=\u001b[39m \u001b[39m\"\u001b[39m\u001b[39mraise\u001b[39m\u001b[39m\"\u001b[39m,\n\u001b[0;32m   4784\u001b[0m ):\n\u001b[0;32m   4785\u001b[0m     \u001b[39m\"\"\"\u001b[39;00m\n\u001b[0;32m   4786\u001b[0m \u001b[39m    Drop specified labels from rows or columns.\u001b[39;00m\n\u001b[0;32m   4787\u001b[0m \n\u001b[1;32m   (...)\u001b[0m\n\u001b[0;32m   4904\u001b[0m \u001b[39m            weight  1.0     0.8\u001b[39;00m\n\u001b[0;32m   4905\u001b[0m \u001b[39m    \"\"\"\u001b[39;00m\n\u001b[1;32m-> 4906\u001b[0m     \u001b[39mreturn\u001b[39;00m \u001b[39msuper\u001b[39;49m()\u001b[39m.\u001b[39;49mdrop(\n\u001b[0;32m   4907\u001b[0m         labels\u001b[39m=\u001b[39;49mlabels,\n\u001b[0;32m   4908\u001b[0m         axis\u001b[39m=\u001b[39;49maxis,\n\u001b[0;32m   4909\u001b[0m         index\u001b[39m=\u001b[39;49mindex,\n\u001b[0;32m   4910\u001b[0m         columns\u001b[39m=\u001b[39;49mcolumns,\n\u001b[0;32m   4911\u001b[0m         level\u001b[39m=\u001b[39;49mlevel,\n\u001b[0;32m   4912\u001b[0m         inplace\u001b[39m=\u001b[39;49minplace,\n\u001b[0;32m   4913\u001b[0m         errors\u001b[39m=\u001b[39;49merrors,\n\u001b[0;32m   4914\u001b[0m     )\n",
      "File \u001b[1;32mc:\\Users\\Frederico\\Anaconda3\\lib\\site-packages\\pandas\\core\\generic.py:4150\u001b[0m, in \u001b[0;36mNDFrame.drop\u001b[1;34m(self, labels, axis, index, columns, level, inplace, errors)\u001b[0m\n\u001b[0;32m   4148\u001b[0m \u001b[39mfor\u001b[39;00m axis, labels \u001b[39min\u001b[39;00m axes\u001b[39m.\u001b[39mitems():\n\u001b[0;32m   4149\u001b[0m     \u001b[39mif\u001b[39;00m labels \u001b[39mis\u001b[39;00m \u001b[39mnot\u001b[39;00m \u001b[39mNone\u001b[39;00m:\n\u001b[1;32m-> 4150\u001b[0m         obj \u001b[39m=\u001b[39m obj\u001b[39m.\u001b[39;49m_drop_axis(labels, axis, level\u001b[39m=\u001b[39;49mlevel, errors\u001b[39m=\u001b[39;49merrors)\n\u001b[0;32m   4152\u001b[0m \u001b[39mif\u001b[39;00m inplace:\n\u001b[0;32m   4153\u001b[0m     \u001b[39mself\u001b[39m\u001b[39m.\u001b[39m_update_inplace(obj)\n",
      "File \u001b[1;32mc:\\Users\\Frederico\\Anaconda3\\lib\\site-packages\\pandas\\core\\generic.py:4185\u001b[0m, in \u001b[0;36mNDFrame._drop_axis\u001b[1;34m(self, labels, axis, level, errors)\u001b[0m\n\u001b[0;32m   4183\u001b[0m         new_axis \u001b[39m=\u001b[39m axis\u001b[39m.\u001b[39mdrop(labels, level\u001b[39m=\u001b[39mlevel, errors\u001b[39m=\u001b[39merrors)\n\u001b[0;32m   4184\u001b[0m     \u001b[39melse\u001b[39;00m:\n\u001b[1;32m-> 4185\u001b[0m         new_axis \u001b[39m=\u001b[39m axis\u001b[39m.\u001b[39;49mdrop(labels, errors\u001b[39m=\u001b[39;49merrors)\n\u001b[0;32m   4186\u001b[0m     result \u001b[39m=\u001b[39m \u001b[39mself\u001b[39m\u001b[39m.\u001b[39mreindex(\u001b[39m*\u001b[39m\u001b[39m*\u001b[39m{axis_name: new_axis})\n\u001b[0;32m   4188\u001b[0m \u001b[39m# Case for non-unique axis\u001b[39;00m\n\u001b[0;32m   4189\u001b[0m \u001b[39melse\u001b[39;00m:\n",
      "File \u001b[1;32mc:\\Users\\Frederico\\Anaconda3\\lib\\site-packages\\pandas\\core\\indexes\\base.py:6017\u001b[0m, in \u001b[0;36mIndex.drop\u001b[1;34m(self, labels, errors)\u001b[0m\n\u001b[0;32m   6015\u001b[0m \u001b[39mif\u001b[39;00m mask\u001b[39m.\u001b[39many():\n\u001b[0;32m   6016\u001b[0m     \u001b[39mif\u001b[39;00m errors \u001b[39m!=\u001b[39m \u001b[39m\"\u001b[39m\u001b[39mignore\u001b[39m\u001b[39m\"\u001b[39m:\n\u001b[1;32m-> 6017\u001b[0m         \u001b[39mraise\u001b[39;00m \u001b[39mKeyError\u001b[39;00m(\u001b[39mf\u001b[39m\u001b[39m\"\u001b[39m\u001b[39m{\u001b[39;00mlabels[mask]\u001b[39m}\u001b[39;00m\u001b[39m not found in axis\u001b[39m\u001b[39m\"\u001b[39m)\n\u001b[0;32m   6018\u001b[0m     indexer \u001b[39m=\u001b[39m indexer[\u001b[39m~\u001b[39mmask]\n\u001b[0;32m   6019\u001b[0m \u001b[39mreturn\u001b[39;00m \u001b[39mself\u001b[39m\u001b[39m.\u001b[39mdelete(indexer)\n",
      "\u001b[1;31mKeyError\u001b[0m: \"['None'] not found in axis\""
     ]
    }
   ],
   "source": [
    "run = Main(\"D:/Datasets/epileptic/Epileptic_Seizure_Recognition.csv\", 'y')\n",
    "\n",
    "data, X, y = run.prepare_data(drop_columns='Unnamed')\n",
    "\n",
    "run.train(data)\n",
    "\n",
    "run.save_models('epileptic_seizure')\n",
    "\n",
    "ctgan_samples, ctgan_X_syn, ctgan_y_syn  = run.generate('ctgan')\n",
    "dpctgan_samples, dpctgan_X_syn, dpctgan_y_syn = run.generate('dpctgan')\n",
    "\n",
    "ctgan_privacy = run.calculate_privacy(ctgan_samples, data)\n",
    "dpctgan_privacy = run.calculate_privacy(dpctgan_samples, data)\n",
    "\n",
    "ctgan_fidelity, _, _ = run.calculate_fidelity(X, y, ctgan_X_syn, ctgan_y_syn)\n",
    "dpctgan_fidelity, _, _ = run.calculate_fidelity(X, y, dpctgan_X_syn, dpctgan_y_syn)\n",
    "\n",
    "\n",
    "fidelity = [ctgan_fidelity, dpctgan_fidelity]\n",
    "privacy = [ctgan_privacy, dpctgan_privacy]\n",
    "\n",
    "print(fidelity)\n",
    "print(privacy)\n",
    "plt.scatter(fidelity, privacy, c =\"blue\")\n",
    "plt.xlabel(\"fidelity\")\n",
    "plt.ylabel(\"privacy\")\n",
    "plt.show()\n",
    "\n"
   ]
  },
  {
   "cell_type": "code",
   "execution_count": 49,
   "metadata": {},
   "outputs": [
    {
     "name": "stdout",
     "output_type": "stream",
     "text": [
      "CTGAN Fidelity:  0.8150724637681159\n",
      "DPCTGAN Fidelity:  0.8266666666666667\n",
      "CTGAN Privacy:  [0.93779959]\n",
      "DPCTGAN Privacy:  [0.81839389]\n"
     ]
    }
   ],
   "source": [
    "print(\"CTGAN Fidelity: \", ctgan_fidelity)\n",
    "print(\"DPCTGAN Fidelity: \", dpctgan_fidelity)\n",
    "print(\"CTGAN Privacy: \", ctgan_privacy)\n",
    "print(\"DPCTGAN Privacy: \", dpctgan_privacy)"
   ]
  }
 ],
 "metadata": {
  "kernelspec": {
   "display_name": "base",
   "language": "python",
   "name": "python3"
  },
  "language_info": {
   "codemirror_mode": {
    "name": "ipython",
    "version": 3
   },
   "file_extension": ".py",
   "mimetype": "text/x-python",
   "name": "python",
   "nbconvert_exporter": "python",
   "pygments_lexer": "ipython3",
   "version": "3.9.7"
  },
  "orig_nbformat": 4
 },
 "nbformat": 4,
 "nbformat_minor": 2
}
