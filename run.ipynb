{
 "cells": [
  {
   "attachments": {},
   "cell_type": "markdown",
   "metadata": {},
   "source": [
    "## epileptic seizure"
   ]
  },
  {
   "cell_type": "code",
   "execution_count": 13,
   "metadata": {},
   "outputs": [
    {
     "name": "stdout",
     "output_type": "stream",
     "text": [
      "The autoreload extension is already loaded. To reload it, use:\n",
      "  %reload_ext autoreload\n"
     ]
    }
   ],
   "source": [
    "from sklearn.datasets import load_breast_cancer\n",
    "from main import *\n",
    "\n",
    "%load_ext autoreload\n",
    "%autoreload 2"
   ]
  },
  {
   "cell_type": "code",
   "execution_count": 48,
   "metadata": {},
   "outputs": [
    {
     "name": "stdout",
     "output_type": "stream",
     "text": [
      "[0.8150724637681159, 0.8266666666666667]\n",
      "[array([0.93779959]), array([0.81839389])]\n"
     ]
    },
    {
     "data": {
      "image/png": "[encoded data removed]",
      "text/plain": [
       "<Figure size 432x288 with 1 Axes>"
      ]
     },
     "metadata": {
      "needs_background": "light"
     },
     "output_type": "display_data"
    }
   ],
   "source": [
    "run = Main(\"D:/Datasets/epileptic/Epileptic_Seizure_Recognition.csv\", 'y')\n",
    "\n",
    "data, X, y = run.prepare_data(drop_columns='Unnamed')\n",
    "\n",
    "run.train(data)\n",
    "\n",
    "run.save_models('epileptic_seizure')\n",
    "\n",
    "ctgan_samples, ctgan_X_syn, ctgan_y_syn  = run.generate('ctgan')\n",
    "dpctgan_samples, dpctgan_X_syn, dpctgan_y_syn = run.generate('dpctgan')\n",
    "\n",
    "ctgan_privacy = run.calculate_privacy(ctgan_samples, data)\n",
    "dpctgan_privacy = run.calculate_privacy(dpctgan_samples, data)\n",
    "\n",
    "ctgan_fidelity, _, _ = run.calculate_fidelity(X, y, ctgan_X_syn, ctgan_y_syn)\n",
    "dpctgan_fidelity, _, _ = run.calculate_fidelity(X, y, dpctgan_X_syn, dpctgan_y_syn)\n",
    "\n",
    "\n",
    "fidelity = [ctgan_fidelity, dpctgan_fidelity]\n",
    "privacy = [ctgan_privacy, dpctgan_privacy]\n",
    "\n",
    "print(fidelity)\n",
    "print(privacy)\n",
    "plt.scatter(fidelity, privacy, c =\"blue\")\n",
    "plt.xlabel(\"fidelity\")\n",
    "plt.ylabel(\"privacy\")\n",
    "plt.show()\n",
    "\n"
   ]
  },
  {
   "cell_type": "code",
   "execution_count": 49,
   "metadata": {},
   "outputs": [
    {
     "name": "stdout",
     "output_type": "stream",
     "text": [
      "CTGAN Fidelity:  0.8150724637681159\n",
      "DPCTGAN Fidelity:  0.8266666666666667\n",
      "CTGAN Privacy:  [0.93779959]\n",
      "DPCTGAN Privacy:  [0.81839389]\n"
     ]
    }
   ],
   "source": [
    "print(\"CTGAN Fidelity: \", ctgan_fidelity)\n",
    "print(\"DPCTGAN Fidelity: \", dpctgan_fidelity)\n",
    "print(\"CTGAN Privacy: \", ctgan_privacy)\n",
    "print(\"DPCTGAN Privacy: \", dpctgan_privacy)"
   ]
  }
 ],
 "metadata": {
  "kernelspec": {
   "display_name": "base",
   "language": "python",
   "name": "python3"
  },
  "language_info": {
   "codemirror_mode": {
    "name": "ipython",
    "version": 3
   },
   "file_extension": ".py",
   "mimetype": "text/x-python",
   "name": "python",
   "nbconvert_exporter": "python",
   "pygments_lexer": "ipython3",
   "version": "3.9.7"
  },
  "orig_nbformat": 4
 },
 "nbformat": 4,
 "nbformat_minor": 2
}
