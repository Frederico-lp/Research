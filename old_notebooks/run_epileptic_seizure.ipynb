{
 "cells": [
  {
   "attachments": {},
   "cell_type": "markdown",
   "metadata": {},
   "source": [
    "## epileptic seizure"
   ]
  },
  {
   "cell_type": "code",
   "execution_count": 1,
   "metadata": {},
   "outputs": [],
   "source": [
    "from sklearn.datasets import load_breast_cancer\n",
    "from main import *\n",
    "\n",
    "%load_ext autoreload\n",
    "%autoreload 2"
   ]
  },
  {
   "cell_type": "code",
   "execution_count": 2,
   "metadata": {},
   "outputs": [
    {
     "name": "stdout",
     "output_type": "stream",
     "text": [
      "Initializing class...\n",
      "Init CTGAN with differential privacy.  Target epsilon: 1\n",
      "Preparing data...\n",
      "Training models...\n",
      "Epoch 1, Loss G: -3.7563, Loss D: -2.2305, Epsilon: 0.2896\n",
      "Epoch 2, Loss G: -5.2175, Loss D:  0.0129, Epsilon: 0.3954\n",
      "Epoch 3, Loss G:  0.0824, Loss D:  0.0307, Epsilon: 0.4772\n",
      "Epoch 4, Loss G:  4.1902, Loss D:  0.3817, Epsilon: 0.5464\n",
      "Epoch 5, Loss G:  2.8602, Loss D: -3.8062, Epsilon: 0.6077\n",
      "Epoch 6, Loss G:  0.4391, Loss D: -1.5739, Epsilon: 0.6633\n",
      "Epoch 7, Loss G: -0.4418, Loss D:  0.0086, Epsilon: 0.7144\n",
      "Epoch 8, Loss G: -3.0141, Loss D: -0.0425, Epsilon: 0.7622\n",
      "Epoch 9, Loss G: -0.1511, Loss D: -0.4633, Epsilon: 0.8071\n",
      "Epoch 10, Loss G: -0.1867, Loss D:  1.1563, Epsilon: 0.8498\n",
      "Epoch 11, Loss G: -0.7712, Loss D:  0.1929, Epsilon: 0.8903\n",
      "Epoch 12, Loss G:  1.1347, Loss D: -0.8363, Epsilon: 0.9292\n",
      "Epoch 13, Loss G:  2.0737, Loss D: -0.4362, Epsilon: 0.9666\n",
      "Epoch 14, Loss G:  0.7579, Loss D:  0.1535, Epsilon: 1.0024\n"
     ]
    },
    {
     "ename": "ValueError",
     "evalue": "Unknown label type: 'continuous'",
     "output_type": "error",
     "traceback": [
      "\u001b[1;31m---------------------------------------------------------------------------\u001b[0m",
      "\u001b[1;31mValueError\u001b[0m                                Traceback (most recent call last)",
      "\u001b[1;32md:\\bolsa\\Research\\run_epileptic_seizure.ipynb Cell 3\u001b[0m in \u001b[0;36m<cell line: 15>\u001b[1;34m()\u001b[0m\n\u001b[0;32m     <a href='vscode-notebook-cell:/d%3A/bolsa/Research/run_epileptic_seizure.ipynb#W2sZmlsZQ%3D%3D?line=11'>12</a>\u001b[0m ctgan_privacy \u001b[39m=\u001b[39m run\u001b[39m.\u001b[39mcalculate_privacy(ctgan_samples, data)\n\u001b[0;32m     <a href='vscode-notebook-cell:/d%3A/bolsa/Research/run_epileptic_seizure.ipynb#W2sZmlsZQ%3D%3D?line=12'>13</a>\u001b[0m dpctgan_privacy \u001b[39m=\u001b[39m run\u001b[39m.\u001b[39mcalculate_privacy(dpctgan_samples, data)\n\u001b[1;32m---> <a href='vscode-notebook-cell:/d%3A/bolsa/Research/run_epileptic_seizure.ipynb#W2sZmlsZQ%3D%3D?line=14'>15</a>\u001b[0m ctgan_fidelity, _, _ \u001b[39m=\u001b[39m run\u001b[39m.\u001b[39;49mcalculate_fidelity(X, y, ctgan_X_syn, ctgan_y_syn)\n\u001b[0;32m     <a href='vscode-notebook-cell:/d%3A/bolsa/Research/run_epileptic_seizure.ipynb#W2sZmlsZQ%3D%3D?line=15'>16</a>\u001b[0m dpctgan_fidelity, _, _ \u001b[39m=\u001b[39m run\u001b[39m.\u001b[39mcalculate_fidelity(X, y, dpctgan_X_syn, dpctgan_y_syn)\n\u001b[0;32m     <a href='vscode-notebook-cell:/d%3A/bolsa/Research/run_epileptic_seizure.ipynb#W2sZmlsZQ%3D%3D?line=18'>19</a>\u001b[0m fidelity \u001b[39m=\u001b[39m [ctgan_fidelity, dpctgan_fidelity]\n",
      "File \u001b[1;32md:\\bolsa\\Research\\main.py:99\u001b[0m, in \u001b[0;36mMain.calculate_fidelity\u001b[1;34m(self, X_real_data, y_real_data, X_synthetic_data, y_synthetic_data)\u001b[0m\n\u001b[0;32m     95\u001b[0m X_train, X_test, y_train, y_test \u001b[39m=\u001b[39m train_test_split(X_real_data, y_real_data, test_size\u001b[39m=\u001b[39m\u001b[39m0.3\u001b[39m, random_state\u001b[39m=\u001b[39m\u001b[39m42\u001b[39m)\n\u001b[0;32m     97\u001b[0m X_syn_train, X_syn_test, y_syn_train, y_syn_test \u001b[39m=\u001b[39m train_test_split(X_synthetic_data, y_synthetic_data, test_size\u001b[39m=\u001b[39m\u001b[39m0.3\u001b[39m, random_state\u001b[39m=\u001b[39m\u001b[39m42\u001b[39m)\n\u001b[1;32m---> 99\u001b[0m rr_pred \u001b[39m=\u001b[39m get_predictions(X_train, y_train, X_test, y_test)\n\u001b[0;32m    100\u001b[0m fr_pred \u001b[39m=\u001b[39m get_predictions(X_syn_train, y_syn_train, X_test, y_test)\n\u001b[0;32m    101\u001b[0m \u001b[39m#rf_pred = get_predictions(X_train, y_train, X_syn_test, y_syn_test)\u001b[39;00m\n\u001b[0;32m    102\u001b[0m \u001b[39m#ff_pred = get_predictions(X_syn_train, y_syn_train, X_syn_test, y_syn_test)\u001b[39;00m\n",
      "File \u001b[1;32md:\\bolsa\\Research\\utils\\fidelity.py:11\u001b[0m, in \u001b[0;36mget_predictions\u001b[1;34m(X_train, y_train, X_test, y_test)\u001b[0m\n\u001b[0;32m      9\u001b[0m \u001b[39mfor\u001b[39;00m i \u001b[39min\u001b[39;00m \u001b[39mrange\u001b[39m(\u001b[39mlen\u001b[39m(learners)):\n\u001b[0;32m     10\u001b[0m     model \u001b[39m=\u001b[39m learners[i]\n\u001b[1;32m---> 11\u001b[0m     model\u001b[39m.\u001b[39;49mfit(X_train, y_train)\n\u001b[0;32m     13\u001b[0m     \u001b[39m#first letter is data where it trained, second is data where it tested\u001b[39;00m\n\u001b[0;32m     14\u001b[0m     pred \u001b[39m=\u001b[39m []\n",
      "File \u001b[1;32mc:\\Users\\Frederico\\Anaconda3\\lib\\site-packages\\sklearn\\ensemble\\_weight_boosting.py:162\u001b[0m, in \u001b[0;36mBaseWeightBoosting.fit\u001b[1;34m(self, X, y, sample_weight)\u001b[0m\n\u001b[0;32m    159\u001b[0m sample_weight[zero_weight_mask] \u001b[39m=\u001b[39m \u001b[39m0.0\u001b[39m\n\u001b[0;32m    161\u001b[0m \u001b[39m# Boosting step\u001b[39;00m\n\u001b[1;32m--> 162\u001b[0m sample_weight, estimator_weight, estimator_error \u001b[39m=\u001b[39m \u001b[39mself\u001b[39;49m\u001b[39m.\u001b[39;49m_boost(\n\u001b[0;32m    163\u001b[0m     iboost, X, y, sample_weight, random_state\n\u001b[0;32m    164\u001b[0m )\n\u001b[0;32m    166\u001b[0m \u001b[39m# Early termination\u001b[39;00m\n\u001b[0;32m    167\u001b[0m \u001b[39mif\u001b[39;00m sample_weight \u001b[39mis\u001b[39;00m \u001b[39mNone\u001b[39;00m:\n",
      "File \u001b[1;32mc:\\Users\\Frederico\\Anaconda3\\lib\\site-packages\\sklearn\\ensemble\\_weight_boosting.py:569\u001b[0m, in \u001b[0;36mAdaBoostClassifier._boost\u001b[1;34m(self, iboost, X, y, sample_weight, random_state)\u001b[0m\n\u001b[0;32m    530\u001b[0m \u001b[39m\"\"\"Implement a single boost.\u001b[39;00m\n\u001b[0;32m    531\u001b[0m \n\u001b[0;32m    532\u001b[0m \u001b[39mPerform a single boost according to the real multi-class SAMME.R\u001b[39;00m\n\u001b[1;32m   (...)\u001b[0m\n\u001b[0;32m    566\u001b[0m \u001b[39m    If None then boosting has terminated early.\u001b[39;00m\n\u001b[0;32m    567\u001b[0m \u001b[39m\"\"\"\u001b[39;00m\n\u001b[0;32m    568\u001b[0m \u001b[39mif\u001b[39;00m \u001b[39mself\u001b[39m\u001b[39m.\u001b[39malgorithm \u001b[39m==\u001b[39m \u001b[39m\"\u001b[39m\u001b[39mSAMME.R\u001b[39m\u001b[39m\"\u001b[39m:\n\u001b[1;32m--> 569\u001b[0m     \u001b[39mreturn\u001b[39;00m \u001b[39mself\u001b[39;49m\u001b[39m.\u001b[39;49m_boost_real(iboost, X, y, sample_weight, random_state)\n\u001b[0;32m    571\u001b[0m \u001b[39melse\u001b[39;00m:  \u001b[39m# elif self.algorithm == \"SAMME\":\u001b[39;00m\n\u001b[0;32m    572\u001b[0m     \u001b[39mreturn\u001b[39;00m \u001b[39mself\u001b[39m\u001b[39m.\u001b[39m_boost_discrete(iboost, X, y, sample_weight, random_state)\n",
      "File \u001b[1;32mc:\\Users\\Frederico\\Anaconda3\\lib\\site-packages\\sklearn\\ensemble\\_weight_boosting.py:578\u001b[0m, in \u001b[0;36mAdaBoostClassifier._boost_real\u001b[1;34m(self, iboost, X, y, sample_weight, random_state)\u001b[0m\n\u001b[0;32m    575\u001b[0m \u001b[39m\"\"\"Implement a single boost using the SAMME.R real algorithm.\"\"\"\u001b[39;00m\n\u001b[0;32m    576\u001b[0m estimator \u001b[39m=\u001b[39m \u001b[39mself\u001b[39m\u001b[39m.\u001b[39m_make_estimator(random_state\u001b[39m=\u001b[39mrandom_state)\n\u001b[1;32m--> 578\u001b[0m estimator\u001b[39m.\u001b[39;49mfit(X, y, sample_weight\u001b[39m=\u001b[39;49msample_weight)\n\u001b[0;32m    580\u001b[0m y_predict_proba \u001b[39m=\u001b[39m estimator\u001b[39m.\u001b[39mpredict_proba(X)\n\u001b[0;32m    582\u001b[0m \u001b[39mif\u001b[39;00m iboost \u001b[39m==\u001b[39m \u001b[39m0\u001b[39m:\n",
      "File \u001b[1;32mc:\\Users\\Frederico\\Anaconda3\\lib\\site-packages\\sklearn\\tree\\_classes.py:889\u001b[0m, in \u001b[0;36mDecisionTreeClassifier.fit\u001b[1;34m(self, X, y, sample_weight, check_input)\u001b[0m\n\u001b[0;32m    859\u001b[0m \u001b[39mdef\u001b[39;00m \u001b[39mfit\u001b[39m(\u001b[39mself\u001b[39m, X, y, sample_weight\u001b[39m=\u001b[39m\u001b[39mNone\u001b[39;00m, check_input\u001b[39m=\u001b[39m\u001b[39mTrue\u001b[39;00m):\n\u001b[0;32m    860\u001b[0m     \u001b[39m\"\"\"Build a decision tree classifier from the training set (X, y).\u001b[39;00m\n\u001b[0;32m    861\u001b[0m \n\u001b[0;32m    862\u001b[0m \u001b[39m    Parameters\u001b[39;00m\n\u001b[1;32m   (...)\u001b[0m\n\u001b[0;32m    886\u001b[0m \u001b[39m        Fitted estimator.\u001b[39;00m\n\u001b[0;32m    887\u001b[0m \u001b[39m    \"\"\"\u001b[39;00m\n\u001b[1;32m--> 889\u001b[0m     \u001b[39msuper\u001b[39;49m()\u001b[39m.\u001b[39;49mfit(\n\u001b[0;32m    890\u001b[0m         X,\n\u001b[0;32m    891\u001b[0m         y,\n\u001b[0;32m    892\u001b[0m         sample_weight\u001b[39m=\u001b[39;49msample_weight,\n\u001b[0;32m    893\u001b[0m         check_input\u001b[39m=\u001b[39;49mcheck_input,\n\u001b[0;32m    894\u001b[0m     )\n\u001b[0;32m    895\u001b[0m     \u001b[39mreturn\u001b[39;00m \u001b[39mself\u001b[39m\n",
      "File \u001b[1;32mc:\\Users\\Frederico\\Anaconda3\\lib\\site-packages\\sklearn\\tree\\_classes.py:224\u001b[0m, in \u001b[0;36mBaseDecisionTree.fit\u001b[1;34m(self, X, y, sample_weight, check_input)\u001b[0m\n\u001b[0;32m    221\u001b[0m \u001b[39mself\u001b[39m\u001b[39m.\u001b[39mn_outputs_ \u001b[39m=\u001b[39m y\u001b[39m.\u001b[39mshape[\u001b[39m1\u001b[39m]\n\u001b[0;32m    223\u001b[0m \u001b[39mif\u001b[39;00m is_classification:\n\u001b[1;32m--> 224\u001b[0m     check_classification_targets(y)\n\u001b[0;32m    225\u001b[0m     y \u001b[39m=\u001b[39m np\u001b[39m.\u001b[39mcopy(y)\n\u001b[0;32m    227\u001b[0m     \u001b[39mself\u001b[39m\u001b[39m.\u001b[39mclasses_ \u001b[39m=\u001b[39m []\n",
      "File \u001b[1;32mc:\\Users\\Frederico\\Anaconda3\\lib\\site-packages\\sklearn\\utils\\multiclass.py:207\u001b[0m, in \u001b[0;36mcheck_classification_targets\u001b[1;34m(y)\u001b[0m\n\u001b[0;32m    199\u001b[0m y_type \u001b[39m=\u001b[39m type_of_target(y, input_name\u001b[39m=\u001b[39m\u001b[39m\"\u001b[39m\u001b[39my\u001b[39m\u001b[39m\"\u001b[39m)\n\u001b[0;32m    200\u001b[0m \u001b[39mif\u001b[39;00m y_type \u001b[39mnot\u001b[39;00m \u001b[39min\u001b[39;00m [\n\u001b[0;32m    201\u001b[0m     \u001b[39m\"\u001b[39m\u001b[39mbinary\u001b[39m\u001b[39m\"\u001b[39m,\n\u001b[0;32m    202\u001b[0m     \u001b[39m\"\u001b[39m\u001b[39mmulticlass\u001b[39m\u001b[39m\"\u001b[39m,\n\u001b[1;32m   (...)\u001b[0m\n\u001b[0;32m    205\u001b[0m     \u001b[39m\"\u001b[39m\u001b[39mmultilabel-sequences\u001b[39m\u001b[39m\"\u001b[39m,\n\u001b[0;32m    206\u001b[0m ]:\n\u001b[1;32m--> 207\u001b[0m     \u001b[39mraise\u001b[39;00m \u001b[39mValueError\u001b[39;00m(\u001b[39m\"\u001b[39m\u001b[39mUnknown label type: \u001b[39m\u001b[39m%r\u001b[39;00m\u001b[39m\"\u001b[39m \u001b[39m%\u001b[39m y_type)\n",
      "\u001b[1;31mValueError\u001b[0m: Unknown label type: 'continuous'"
     ]
    }
   ],
   "source": [
    "run = Main(\"D:/Datasets/epileptic/Epileptic_Seizure_Recognition.csv\", 'y')\n",
    "\n",
    "data, X, y = run.prepare_data(drop_columns='Unnamed')\n",
    "\n",
    "run.train(data)\n",
    "\n",
    "run.save_models('epileptic_seizure')\n",
    "\n",
    "ctgan_samples, ctgan_X_syn, ctgan_y_syn  = run.generate('ctgan')\n",
    "dpctgan_samples, dpctgan_X_syn, dpctgan_y_syn = run.generate('dpctgan')\n",
    "\n",
    "ctgan_privacy = run.calculate_privacy(ctgan_samples, data)\n",
    "dpctgan_privacy = run.calculate_privacy(dpctgan_samples, data)\n",
    "\n",
    "ctgan_fidelity, _, _ = run.calculate_fidelity(X, y, ctgan_X_syn, ctgan_y_syn)\n",
    "dpctgan_fidelity, _, _ = run.calculate_fidelity(X, y, dpctgan_X_syn, dpctgan_y_syn)\n",
    "\n",
    "\n",
    "fidelity = [ctgan_fidelity, dpctgan_fidelity]\n",
    "privacy = [ctgan_privacy, dpctgan_privacy]\n",
    "\n",
    "print(fidelity)\n",
    "print(privacy)\n",
    "plt.scatter(fidelity, privacy, c =\"blue\")\n",
    "plt.xlabel(\"fidelity\")\n",
    "plt.ylabel(\"privacy\")\n",
    "plt.show()\n",
    "\n"
   ]
  },
  {
   "cell_type": "code",
   "execution_count": null,
   "metadata": {},
   "outputs": [
    {
     "name": "stdout",
     "output_type": "stream",
     "text": [
      "CTGAN Fidelity:  0.8150724637681159\n",
      "DPCTGAN Fidelity:  0.8266666666666667\n",
      "CTGAN Privacy:  [0.93779959]\n",
      "DPCTGAN Privacy:  [0.81839389]\n"
     ]
    }
   ],
   "source": [
    "print(\"CTGAN Fidelity: \", ctgan_fidelity)\n",
    "print(\"DPCTGAN Fidelity: \", dpctgan_fidelity)\n",
    "print(\"CTGAN Privacy: \", ctgan_privacy)\n",
    "print(\"DPCTGAN Privacy: \", dpctgan_privacy)"
   ]
  }
 ],
 "metadata": {
  "kernelspec": {
   "display_name": "base",
   "language": "python",
   "name": "python3"
  },
  "language_info": {
   "codemirror_mode": {
    "name": "ipython",
    "version": 3
   },
   "file_extension": ".py",
   "mimetype": "text/x-python",
   "name": "python",
   "nbconvert_exporter": "python",
   "pygments_lexer": "ipython3",
   "version": "3.9.7"
  },
  "orig_nbformat": 4
 },
 "nbformat": 4,
 "nbformat_minor": 2
}
