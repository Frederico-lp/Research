{
 "cells": [
  {
   "cell_type": "code",
   "execution_count": 1,
   "metadata": {},
   "outputs": [],
   "source": [
    "from models.model_ctgan import CTGANSynthesizer\n",
    "from models.model_dpctgan import DPCTGANSynthesizer\n",
    "\n",
    "import ctgan\n",
    "from sklearn.datasets import load_breast_cancer\n",
    "from sklearn.model_selection import train_test_split\n",
    "from utils.utils import eval_dataset\n",
    "\n",
    "import matplotlib.pyplot as plt\n",
    "import numpy as np\n",
    "import pandas as pd"
   ]
  },
  {
   "cell_type": "code",
   "execution_count": 2,
   "metadata": {},
   "outputs": [],
   "source": [
    "data = load_breast_cancer()\n",
    "df = pd.DataFrame(data.data, columns=data.feature_names)\n",
    "df['target'] = data.target\n",
    "target = 'target'\n",
    "data = df"
   ]
  },
  {
   "cell_type": "code",
   "execution_count": 60,
   "metadata": {},
   "outputs": [],
   "source": [
    "model_ctgan = CTGANSynthesizer(epochs=5)\n",
    "model_ctgan.fit(data)"
   ]
  },
  {
   "attachments": {},
   "cell_type": "markdown",
   "metadata": {},
   "source": [
    "## Privacy"
   ]
  },
  {
   "cell_type": "code",
   "execution_count": null,
   "metadata": {},
   "outputs": [],
   "source": []
  },
  {
   "attachments": {},
   "cell_type": "markdown",
   "metadata": {},
   "source": [
    "## Fidelity"
   ]
  },
  {
   "cell_type": "code",
   "execution_count": 61,
   "metadata": {},
   "outputs": [],
   "source": [
    "from sklearn.ensemble import AdaBoostClassifier, RandomForestClassifier\n",
    "\n",
    "def eval_fidelity(X_train, y_train, X_test, X_syn_train, X_syn_test, y_syn_train):\n",
    "    learners = [(AdaBoostClassifier(n_estimators=50))]\n",
    "\n",
    "    history = dict()\n",
    "\n",
    "    for i in range(len(learners)):\n",
    "        model_real = learners[i]\n",
    "        model_real.fit(X_train, y_train)\n",
    "\n",
    "        model_fake = learners[i]\n",
    "        model_fake.fit(X_syn_train, y_syn_train)\n",
    "\n",
    "        #first letter is data where it trained, second is data where it tested\n",
    "        rr_pred = []\n",
    "        fr_pred = []\n",
    "        ff_pred = []\n",
    "        rf_pred = []\n",
    "\n",
    "        for j in range (len(X_test)):\n",
    "            #print(X_test.loc[[j]])\n",
    "            rr_pred.append(model_real.predict(X_test.iloc[[j]]))\n",
    "            fr_pred.append(model_fake.predict(X_test.iloc[[j]]))\n",
    "            rf_pred.append(model_real.predict(X_syn_test.iloc[[j]]))\n",
    "            ff_pred.append(model_fake.predict(X_syn_test.iloc[[j]]))\n",
    "        \n",
    "    return rr_pred, fr_pred, rf_pred, ff_pred"
   ]
  },
  {
   "cell_type": "code",
   "execution_count": 62,
   "metadata": {},
   "outputs": [
    {
     "name": "stdout",
     "output_type": "stream",
     "text": [
      "<class 'pandas.core.frame.DataFrame'>\n"
     ]
    }
   ],
   "source": [
    "# evaluate performance using real data\n",
    "X = data.drop([target], axis=1)\n",
    "y = data[target]\n",
    "\n",
    "\n",
    "\n",
    "samples = model_ctgan.sample(len(data))  # Synthetic copy\n",
    "samples.dropna(how='any', inplace=True)\n",
    "X_syn = samples.drop([target], axis=1)\n",
    "y_syn = samples[target]\n",
    "\n",
    "\n",
    "X_train, X_test, y_train, y_test = train_test_split(X, y, test_size=0.3, random_state=42)\n",
    "\n",
    "X_syn_train, X_syn_test, y_syn_train, y_syn_test = train_test_split(X_syn, y_syn, test_size=0.3, random_state=42)\n",
    "\n",
    "rr_pred = []\n",
    "fr_pred = []\n",
    "ff_pred = []\n",
    "rf_pred = []\n",
    "\n",
    "rr_pred, fr_pred, rf_pred, ff_pred = eval_fidelity(X_train, y_train, X_test, X_syn_train, X_syn_test, y_syn_train)"
   ]
  },
  {
   "cell_type": "code",
   "execution_count": 83,
   "metadata": {},
   "outputs": [
    {
     "name": "stdout",
     "output_type": "stream",
     "text": [
      "[array([1]), array([1]), array([0]), array([1]), array([0]), array([1]), array([0]), array([0]), array([1]), array([1])]\n",
      "[array([1]), array([1]), array([0]), array([1]), array([0]), array([1]), array([0]), array([0]), array([1]), array([1])]\n"
     ]
    }
   ],
   "source": [
    "print(ff_pred[10:20])\n",
    "print(rf_pred[10:20])"
   ]
  },
  {
   "cell_type": "code",
   "execution_count": 65,
   "metadata": {},
   "outputs": [],
   "source": [
    "from sklearn import metrics\n",
    "def print_confusion_matrix(rr_pred, fr_pred, rf_pred, ff_pred):\n",
    "    confusion_matrix1 = metrics.confusion_matrix(rr_pred, rf_pred)\n",
    "    confusion_matrix2 = metrics.confusion_matrix(fr_pred, ff_pred)\n",
    "\n",
    "    cm_display1 = metrics.ConfusionMatrixDisplay(confusion_matrix = confusion_matrix1, display_labels = [False, True])\n",
    "    cm_display2 = metrics.ConfusionMatrixDisplay(confusion_matrix = confusion_matrix2, display_labels = [False, True])\n",
    "\n",
    "    cm_display1.plot()\n",
    "    cm_display2.plot()\n",
    "    plt.show()\n",
    "\n",
    "\n"
   ]
  },
  {
   "cell_type": "code",
   "execution_count": 66,
   "metadata": {},
   "outputs": [
    {
     "data": {
      "image/png": "[encoded data removed]",
      "text/plain": [
       "<Figure size 432x288 with 2 Axes>"
      ]
     },
     "metadata": {
      "needs_background": "light"
     },
     "output_type": "display_data"
    },
    {
     "data": {
      "image/png": "[encoded data removed]",
      "text/plain": [
       "<Figure size 432x288 with 2 Axes>"
      ]
     },
     "metadata": {
      "needs_background": "light"
     },
     "output_type": "display_data"
    }
   ],
   "source": [
    "\n",
    "print_confusion_matrix(rr_pred, fr_pred, rf_pred, ff_pred)"
   ]
  },
  {
   "cell_type": "code",
   "execution_count": 84,
   "metadata": {},
   "outputs": [
    {
     "name": "stdout",
     "output_type": "stream",
     "text": [
      "Init CTGAN with differential privacy.  Target epsilon: 4\n",
      "Epoch 1, Loss G: -0.0103, Loss D:  0.0315, Epsilon: 1.1379\n",
      "Epoch 2, Loss G: -0.0182, Loss D: -0.0327, Epsilon: 1.6057\n",
      "Epoch 3, Loss G:  0.0154, Loss D: -0.0061, Epsilon: 1.9682\n",
      "Epoch 4, Loss G:  0.0120, Loss D: -0.1163, Epsilon: 2.2780\n",
      "Epoch 5, Loss G: -0.0023, Loss D: -0.1842, Epsilon: 2.5529\n",
      "Epoch 6, Loss G:  0.0656, Loss D: -0.2505, Epsilon: 2.8073\n",
      "Epoch 7, Loss G:  0.0437, Loss D: -0.3179, Epsilon: 3.0354\n",
      "Epoch 8, Loss G:  0.0525, Loss D: -0.3978, Epsilon: 3.2574\n",
      "Epoch 9, Loss G: -0.0275, Loss D: -0.5077, Epsilon: 3.4590\n",
      "Epoch 10, Loss G: -0.0300, Loss D: -0.5351, Epsilon: 3.6605\n",
      "Epoch 11, Loss G: -0.0485, Loss D: -0.5780, Epsilon: 3.8481\n",
      "Epoch 12, Loss G: -0.2090, Loss D: -0.7223, Epsilon: 4.0235\n"
     ]
    }
   ],
   "source": [
    "dpctgan = DPCTGANSynthesizer(verbose=True,\n",
    "                            epochs=2,\n",
    "                            clip_coeff=0.1,\n",
    "                            sigma=4,\n",
    "                            target_epsilon=4,\n",
    "                            target_delta=1e-5\n",
    "                            )\n",
    "dpctgan.fit(data)"
   ]
  },
  {
   "cell_type": "code",
   "execution_count": null,
   "metadata": {},
   "outputs": [],
   "source": [
    "# DPCTGAN\n",
    "samples = dpctgan.sample(len(data))  # Synthetic copy\n",
    "X_syn = samples.drop([target], axis=1)\n",
    "y_syn = samples[target]"
   ]
  },
  {
   "cell_type": "code",
   "execution_count": 111,
   "metadata": {},
   "outputs": [],
   "source": [
    "from math import dist\n",
    "\n",
    "def get_nearest(src_point, candidates):\n",
    "    min_dist = 1000\n",
    "    min_index = 0\n",
    "    for i in range(len(candidates)):\n",
    "        distance = dist(src_point, candidates.iloc[[i]])\n",
    "        if distance < min_dist:\n",
    "            min_dist = dist\n",
    "            min_index = i\n",
    "\n",
    "    return min_index, min_dist\n"
   ]
  },
  {
   "attachments": {},
   "cell_type": "markdown",
   "metadata": {},
   "source": [
    "## Privacy"
   ]
  },
  {
   "cell_type": "code",
   "execution_count": 112,
   "metadata": {},
   "outputs": [
    {
     "ename": "TypeError",
     "evalue": "must be real number, not str",
     "output_type": "error",
     "traceback": [
      "\u001b[1;31m---------------------------------------------------------------------------\u001b[0m",
      "\u001b[1;31mTypeError\u001b[0m                                 Traceback (most recent call last)",
      "\u001b[1;32md:\\bolsa\\Research\\notebook25.ipynb Cell 16\u001b[0m in \u001b[0;36m<cell line: 3>\u001b[1;34m()\u001b[0m\n\u001b[0;32m      <a href='vscode-notebook-cell:/d%3A/bolsa/Research/notebook25.ipynb#X34sZmlsZQ%3D%3D?line=0'>1</a>\u001b[0m \u001b[39m# from utils.privacy import get_nearest\u001b[39;00m\n\u001b[0;32m      <a href='vscode-notebook-cell:/d%3A/bolsa/Research/notebook25.ipynb#X34sZmlsZQ%3D%3D?line=1'>2</a>\u001b[0m \u001b[39m# from utils.privacy import avg_dist\u001b[39;00m\n\u001b[1;32m----> <a href='vscode-notebook-cell:/d%3A/bolsa/Research/notebook25.ipynb#X34sZmlsZQ%3D%3D?line=2'>3</a>\u001b[0m closest, dist \u001b[39m=\u001b[39m get_nearest(X_syn\u001b[39m.\u001b[39;49miloc[[\u001b[39m0\u001b[39;49m]], X)\n",
      "\u001b[1;32md:\\bolsa\\Research\\notebook25.ipynb Cell 16\u001b[0m in \u001b[0;36mget_nearest\u001b[1;34m(src_point, candidates)\u001b[0m\n\u001b[0;32m      <a href='vscode-notebook-cell:/d%3A/bolsa/Research/notebook25.ipynb#X34sZmlsZQ%3D%3D?line=4'>5</a>\u001b[0m min_index \u001b[39m=\u001b[39m \u001b[39m0\u001b[39m\n\u001b[0;32m      <a href='vscode-notebook-cell:/d%3A/bolsa/Research/notebook25.ipynb#X34sZmlsZQ%3D%3D?line=5'>6</a>\u001b[0m \u001b[39mfor\u001b[39;00m i \u001b[39min\u001b[39;00m \u001b[39mrange\u001b[39m(\u001b[39mlen\u001b[39m(candidates)):\n\u001b[1;32m----> <a href='vscode-notebook-cell:/d%3A/bolsa/Research/notebook25.ipynb#X34sZmlsZQ%3D%3D?line=6'>7</a>\u001b[0m     distance \u001b[39m=\u001b[39m dist(src_point, candidates\u001b[39m.\u001b[39;49miloc[[i]])\n\u001b[0;32m      <a href='vscode-notebook-cell:/d%3A/bolsa/Research/notebook25.ipynb#X34sZmlsZQ%3D%3D?line=7'>8</a>\u001b[0m     \u001b[39mif\u001b[39;00m distance \u001b[39m<\u001b[39m min_dist:\n\u001b[0;32m      <a href='vscode-notebook-cell:/d%3A/bolsa/Research/notebook25.ipynb#X34sZmlsZQ%3D%3D?line=8'>9</a>\u001b[0m         min_dist \u001b[39m=\u001b[39m dist\n",
      "\u001b[1;31mTypeError\u001b[0m: must be real number, not str"
     ]
    }
   ],
   "source": [
    "# from utils.privacy import get_nearest\n",
    "# from utils.privacy import avg_dist\n",
    "closest, dist = get_nearest(X_syn.iloc[[0]], X)"
   ]
  },
  {
   "attachments": {},
   "cell_type": "markdown",
   "metadata": {},
   "source": [
    "## Fidelity"
   ]
  },
  {
   "cell_type": "code",
   "execution_count": 85,
   "metadata": {},
   "outputs": [],
   "source": [
    "X_train, X_test, y_train, y_test = train_test_split(X, y, test_size=0.3, random_state=42)\n",
    "\n",
    "X_syn_train, X_syn_test, y_syn_train, y_syn_test = train_test_split(X_syn, y_syn, test_size=0.3, random_state=42)\n",
    "\n",
    "rr_pred = []\n",
    "fr_pred = []\n",
    "ff_pred = []\n",
    "rf_pred = []\n",
    "\n",
    "rr_pred, fr_pred, rf_pred, ff_pred = eval_fidelity(X_train, y_train, X_test, X_syn_train, X_syn_test, y_syn_train)"
   ]
  },
  {
   "cell_type": "code",
   "execution_count": 86,
   "metadata": {},
   "outputs": [
    {
     "data": {
      "image/png": "[encoded data removed]",
      "text/plain": [
       "<Figure size 432x288 with 2 Axes>"
      ]
     },
     "metadata": {
      "needs_background": "light"
     },
     "output_type": "display_data"
    },
    {
     "data": {
      "image/png": "[encoded data removed]",
      "text/plain": [
       "<Figure size 432x288 with 2 Axes>"
      ]
     },
     "metadata": {
      "needs_background": "light"
     },
     "output_type": "display_data"
    }
   ],
   "source": [
    "print_confusion_matrix(rr_pred, fr_pred, rf_pred, ff_pred)"
   ]
  }
 ],
 "metadata": {
  "kernelspec": {
   "display_name": "base",
   "language": "python",
   "name": "python3"
  },
  "language_info": {
   "codemirror_mode": {
    "name": "ipython",
    "version": 3
   },
   "file_extension": ".py",
   "mimetype": "text/x-python",
   "name": "python",
   "nbconvert_exporter": "python",
   "pygments_lexer": "ipython3",
   "version": "3.9.7"
  },
  "orig_nbformat": 4,
  "vscode": {
   "interpreter": {
    "hash": "0c7ee3fe0511964dde0ab71203dae3be937f26253fe8e676ba5adca384951c4b"
   }
  }
 },
 "nbformat": 4,
 "nbformat_minor": 2
}
