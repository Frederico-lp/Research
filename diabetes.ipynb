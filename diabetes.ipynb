{
 "cells": [
  {
   "cell_type": "code",
   "execution_count": 1,
   "metadata": {},
   "outputs": [],
   "source": [
    "%load_ext autoreload\n",
    "%autoreload 2"
   ]
  },
  {
   "cell_type": "code",
   "execution_count": 2,
   "metadata": {},
   "outputs": [],
   "source": [
    "from models.model_fpgan import FPGANSynthesizer\n",
    "from models.model_ctgan import CTGANSynthesizer\n",
    "from models.model_dpctgan import DPCTGANSynthesizer\n",
    "\n",
    "import ctgan\n",
    "from sklearn.model_selection import train_test_split\n",
    "from utils.privacy import normalized_avg_dist\n",
    "from utils.fidelity import get_predictions, eval_fidelity, get_accuracy\n",
    "\n",
    "import matplotlib.pyplot as plt\n",
    "import numpy as np\n",
    "import pandas as pd"
   ]
  },
  {
   "cell_type": "code",
   "execution_count": 3,
   "metadata": {},
   "outputs": [
    {
     "data": {
      "text/plain": [
       "(253680, 22)"
      ]
     },
     "execution_count": 3,
     "metadata": {},
     "output_type": "execute_result"
    }
   ],
   "source": [
    "data = pd.read_csv(\"D:/Datasets/diabetes/diabetes.csv\")\n",
    "data.head()\n",
    "data.shape"
   ]
  },
  {
   "cell_type": "code",
   "execution_count": 4,
   "metadata": {},
   "outputs": [],
   "source": [
    "#normalized_data=(data-data.mean())/data.std()\n",
    "data=(data-data.min())/(data.max()-data.min())\n",
    "data = data[:70000]"
   ]
  },
  {
   "cell_type": "code",
   "execution_count": 5,
   "metadata": {},
   "outputs": [],
   "source": [
    "target = 'Diabetes_binary'"
   ]
  },
  {
   "cell_type": "code",
   "execution_count": 6,
   "metadata": {},
   "outputs": [],
   "source": [
    "X = data.drop(columns=[target])\n",
    "y = data[target]"
   ]
  },
  {
   "cell_type": "code",
   "execution_count": 7,
   "metadata": {},
   "outputs": [
    {
     "name": "stdout",
     "output_type": "stream",
     "text": [
      "Init CTGAN with differential privacy.  Target epsilon: 3\n",
      "Epoch 1, Loss G:  0.7801, Loss D: -0.1030, Epsilon: 1.5110\n",
      "Epoch 2, Loss G: -0.1117, Loss D: -0.2971, Epsilon: 1.5828\n",
      "Epoch 3, Loss G: -0.0116, Loss D: -0.1671, Epsilon: 1.6547\n",
      "Epoch 4, Loss G:  0.5724, Loss D: -0.0886, Epsilon: 1.7266\n",
      "Epoch 5, Loss G:  0.5040, Loss D:  0.0148, Epsilon: 1.7984\n",
      "Epoch 6, Loss G:  0.9313, Loss D: -0.1658, Epsilon: 1.8703\n",
      "Epoch 7, Loss G:  0.5079, Loss D: -0.1504, Epsilon: 1.9422\n",
      "Epoch 8, Loss G:  0.7860, Loss D: -0.1588, Epsilon: 2.0140\n",
      "Epoch 9, Loss G:  1.1279, Loss D:  0.2707, Epsilon: 2.0859\n",
      "Epoch 10, Loss G:  1.0770, Loss D:  0.2553, Epsilon: 2.1578\n",
      "Epoch 11, Loss G:  0.3819, Loss D:  0.2019, Epsilon: 2.2296\n",
      "Epoch 12, Loss G:  0.8558, Loss D: -0.1756, Epsilon: 2.3015\n",
      "Epoch 13, Loss G:  0.3008, Loss D: -0.1893, Epsilon: 2.3734\n",
      "Epoch 14, Loss G:  0.6865, Loss D: -0.0611, Epsilon: 2.4423\n",
      "Epoch 15, Loss G:  0.7361, Loss D: -0.1484, Epsilon: 2.4993\n",
      "Epoch 16, Loss G:  1.1835, Loss D: -0.2065, Epsilon: 2.5562\n",
      "Epoch 17, Loss G:  1.0212, Loss D: -0.1748, Epsilon: 2.6132\n",
      "Epoch 18, Loss G:  0.9799, Loss D: -0.3107, Epsilon: 2.6702\n",
      "Epoch 19, Loss G:  0.4212, Loss D: -0.2359, Epsilon: 2.7271\n",
      "Epoch 20, Loss G: -0.0012, Loss D:  0.2808, Epsilon: 2.7841\n",
      "Epoch 21, Loss G:  0.3656, Loss D: -0.0145, Epsilon: 2.8411\n",
      "Epoch 22, Loss G:  0.7904, Loss D:  0.1403, Epsilon: 2.8980\n",
      "Epoch 23, Loss G:  1.0308, Loss D: -0.2482, Epsilon: 2.9550\n",
      "Epoch 24, Loss G:  0.6483, Loss D:  0.3431, Epsilon: 3.0120\n"
     ]
    }
   ],
   "source": [
    "#model_ctgan = CTGANSynthesizer(epochs=20)\n",
    "model_ctgan = DPCTGANSynthesizer(verbose=True)\n",
    "#original_losses, tranformed_privacies, losses = model_ctgan.fit(data)\n",
    "model_ctgan.fit(data)"
   ]
  },
  {
   "cell_type": "code",
   "execution_count": 8,
   "metadata": {},
   "outputs": [],
   "source": [
    "from utils.utils import save_models\n",
    "save_models(model_ctgan, 'dpctgan3', 'diabetes')"
   ]
  },
  {
   "cell_type": "code",
   "execution_count": 9,
   "metadata": {},
   "outputs": [],
   "source": [
    "from utils.utils import load_models\n",
    "model_ctgan = load_models('dpctgan3', 'diabetes')"
   ]
  },
  {
   "cell_type": "code",
   "execution_count": 10,
   "metadata": {},
   "outputs": [],
   "source": [
    "samples = model_ctgan.sample(len(data))  # Synthetic copy\n",
    "samples.dropna(how='any', inplace=True)\n",
    "\n",
    "X_syn = samples.drop(columns=[target])\n",
    "y_syn = samples[target]\n",
    "y_syn = y_syn.round(0)\n",
    "y_syn = y_syn.astype(int)"
   ]
  },
  {
   "attachments": {},
   "cell_type": "markdown",
   "metadata": {},
   "source": [
    "## Privacy"
   ]
  },
  {
   "cell_type": "code",
   "execution_count": 11,
   "metadata": {},
   "outputs": [],
   "source": [
    "samples = samples.apply(pd.to_numeric) # convert all columns of DataFrame\n",
    "data = data.apply(pd.to_numeric) # convert all columns of DataFrame\n",
    "samples = samples[:2000]\n",
    "data = data[:2000]"
   ]
  },
  {
   "cell_type": "code",
   "execution_count": 12,
   "metadata": {},
   "outputs": [
    {
     "name": "stdout",
     "output_type": "stream",
     "text": [
      "[0.15249756]\n"
     ]
    }
   ],
   "source": [
    "normalized_avg_distance = normalized_avg_dist(samples, data)\n",
    "print(normalized_avg_distance)"
   ]
  },
  {
   "attachments": {},
   "cell_type": "markdown",
   "metadata": {},
   "source": [
    "## Fidelity"
   ]
  },
  {
   "cell_type": "code",
   "execution_count": 13,
   "metadata": {},
   "outputs": [],
   "source": [
    "X_train, X_test, y_train, y_test = train_test_split(X, y, test_size=0.3, random_state=42, stratify=y)\n",
    "\n",
    "X_syn_train, X_syn_test, y_syn_train, y_syn_test = train_test_split(X_syn, y_syn, test_size=0.3, random_state=42, stratify=y_syn)\n",
    "\n",
    "rr_pred = []\n",
    "fr_pred = []\n",
    "ff_pred = []\n",
    "rf_pred = []\n",
    "\n",
    "rr_pred = get_predictions(X_train, y_train, X_test, y_test)\n",
    "fr_pred = get_predictions(X_syn_train, y_syn_train, X_test, y_test)"
   ]
  },
  {
   "cell_type": "code",
   "execution_count": 14,
   "metadata": {},
   "outputs": [
    {
     "data": {
      "image/png": "[encoded data removed]",
      "text/plain": [
       "<Figure size 432x288 with 2 Axes>"
      ]
     },
     "metadata": {
      "needs_background": "light"
     },
     "output_type": "display_data"
    }
   ],
   "source": [
    "from sklearn import metrics\n",
    "def print_confusion_matrix(rr_pred, fr_pred):\n",
    "    confusion_matrix = metrics.confusion_matrix(rr_pred, fr_pred)\n",
    "\n",
    "    cm_display1 = metrics.ConfusionMatrixDisplay(confusion_matrix = confusion_matrix, display_labels = [False, True])\n",
    "\n",
    "    cm_display1.plot()\n",
    "    plt.show()\n",
    "    \n",
    "print_confusion_matrix(rr_pred, fr_pred)"
   ]
  },
  {
   "cell_type": "code",
   "execution_count": 15,
   "metadata": {},
   "outputs": [],
   "source": [
    "percentage, class1_ratio, class2_ratio = eval_fidelity(rr_pred, fr_pred)"
   ]
  },
  {
   "cell_type": "code",
   "execution_count": 16,
   "metadata": {},
   "outputs": [
    {
     "name": "stdout",
     "output_type": "stream",
     "text": [
      "Accuracy of real data:  0.7688571428571429\n",
      "Accuracy of synthetic data:  0.7256190476190476\n"
     ]
    }
   ],
   "source": [
    "rr_acc = get_accuracy(y_test, rr_pred)\n",
    "fr_acc = get_accuracy(y_test, fr_pred)\n",
    "print(\"Accuracy of real data: \", rr_acc)\n",
    "print(\"Accuracy of synthetic data: \", fr_acc)"
   ]
  },
  {
   "cell_type": "code",
   "execution_count": 17,
   "metadata": {},
   "outputs": [
    {
     "name": "stdout",
     "output_type": "stream",
     "text": [
      "0.7860487745545217 0.5643343653250774\n"
     ]
    }
   ],
   "source": [
    "print(class1_ratio, class2_ratio)"
   ]
  },
  {
   "attachments": {},
   "cell_type": "markdown",
   "metadata": {},
   "source": [
    "## Final plot"
   ]
  },
  {
   "cell_type": "code",
   "execution_count": 18,
   "metadata": {},
   "outputs": [
    {
     "data": {
      "image/png": "[encoded data removed]",
      "text/plain": [
       "<Figure size 432x288 with 1 Axes>"
      ]
     },
     "metadata": {
      "needs_background": "light"
     },
     "output_type": "display_data"
    },
    {
     "name": "stdout",
     "output_type": "stream",
     "text": [
      "0.8324761904761905 [0.15249756]\n"
     ]
    }
   ],
   "source": [
    "plt.scatter(percentage, normalized_avg_distance, c =\"blue\")\n",
    "plt.xlabel(\"fidelity\")\n",
    "plt.ylabel(\"privacy\")\n",
    "plt.show()\n",
    "print(percentage, normalized_avg_distance)"
   ]
  }
 ],
 "metadata": {
  "kernelspec": {
   "display_name": "base",
   "language": "python",
   "name": "python3"
  },
  "language_info": {
   "codemirror_mode": {
    "name": "ipython",
    "version": 3
   },
   "file_extension": ".py",
   "mimetype": "text/x-python",
   "name": "python",
   "nbconvert_exporter": "python",
   "pygments_lexer": "ipython3",
   "version": "3.9.7"
  },
  "orig_nbformat": 4
 },
 "nbformat": 4,
 "nbformat_minor": 2
}
