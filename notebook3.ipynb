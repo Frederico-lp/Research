{
 "cells": [
  {
   "cell_type": "code",
   "execution_count": 2,
   "metadata": {},
   "outputs": [],
   "source": [
    "from models.model_dpwgan import DP_WGAN\n",
    "from models.model_pategan import PATE_GAN\n",
    "\n",
    "import ctgan\n",
    "from sklearn.datasets import load_breast_cancer\n",
    "from sklearn.model_selection import train_test_split\n",
    "from utils.utils import eval_dataset\n",
    "\n",
    "import matplotlib.pyplot as plt\n",
    "import numpy as np\n",
    "import pandas as pd"
   ]
  },
  {
   "cell_type": "code",
   "execution_count": 3,
   "metadata": {},
   "outputs": [],
   "source": [
    "data = load_breast_cancer()\n",
    "df = pd.DataFrame(data.data, columns=data.feature_names)\n",
    "df['target'] = data.target\n",
    "target = 'target'\n",
    "data = df"
   ]
  },
  {
   "cell_type": "code",
   "execution_count": null,
   "metadata": {},
   "outputs": [],
   "source": [
    "input_dim = data.shape[1]\n",
    "z_dim = int(input_dim / 4 + 1) if input_dim % 4 == 0 else int(input_dim / 4)"
   ]
  },
  {
   "cell_type": "code",
   "execution_count": 7,
   "metadata": {},
   "outputs": [
    {
     "ename": "TypeError",
     "evalue": "train() missing 2 required positional arguments: 'y_train' and 'hyperparams'",
     "output_type": "error",
     "traceback": [
      "\u001b[1;31m---------------------------------------------------------------------------\u001b[0m",
      "\u001b[1;31mTypeError\u001b[0m                                 Traceback (most recent call last)",
      "\u001b[1;32md:\\bolsa\\Research\\notebook3.ipynb Cell 3\u001b[0m in \u001b[0;36m<cell line: 5>\u001b[1;34m()\u001b[0m\n\u001b[0;32m      <a href='vscode-notebook-cell:/d%3A/bolsa/Research/notebook3.ipynb#W2sZmlsZQ%3D%3D?line=1'>2</a>\u001b[0m z_dim \u001b[39m=\u001b[39m \u001b[39mint\u001b[39m(input_dim \u001b[39m/\u001b[39m \u001b[39m4\u001b[39m \u001b[39m+\u001b[39m \u001b[39m1\u001b[39m) \u001b[39mif\u001b[39;00m input_dim \u001b[39m%\u001b[39m \u001b[39m4\u001b[39m \u001b[39m==\u001b[39m \u001b[39m0\u001b[39m \u001b[39melse\u001b[39;00m \u001b[39mint\u001b[39m(input_dim \u001b[39m/\u001b[39m \u001b[39m4\u001b[39m)\n\u001b[0;32m      <a href='vscode-notebook-cell:/d%3A/bolsa/Research/notebook3.ipynb#W2sZmlsZQ%3D%3D?line=3'>4</a>\u001b[0m pategan \u001b[39m=\u001b[39m PATE_GAN(input_dim, z_dim, num_teachers\u001b[39m=\u001b[39m\u001b[39m10\u001b[39m, target_epsilon\u001b[39m=\u001b[39m\u001b[39m4\u001b[39m, target_delta\u001b[39m=\u001b[39m\u001b[39m1e-5\u001b[39m)\n\u001b[1;32m----> <a href='vscode-notebook-cell:/d%3A/bolsa/Research/notebook3.ipynb#W2sZmlsZQ%3D%3D?line=4'>5</a>\u001b[0m pategan\u001b[39m.\u001b[39;49mtrain(data)\n",
      "\u001b[1;31mTypeError\u001b[0m: train() missing 2 required positional arguments: 'y_train' and 'hyperparams'"
     ]
    }
   ],
   "source": [
    "pategan = PATE_GAN(input_dim, z_dim, num_teachers=10, target_epsilon=4, target_delta=1e-5)\n",
    "pategan.train(data)\n",
    "\n",
    "# model = pate_gan.PATE_GAN(input_dim, z_dim, opt.num_teachers, opt.target_epsilon, opt.target_delta, conditional)\n",
    "# model.train(X_train, y_train, Hyperparams(batch_size=opt.batch_size, num_teacher_iters=opt.teacher_iters,\n",
    "#                                             num_student_iters=opt.student_iters, num_moments=opt.num_moments,\n",
    "#                                             lap_scale=opt.lap_scale, class_ratios=class_ratios, lr=1e-4))"
   ]
  },
  {
   "cell_type": "code",
   "execution_count": null,
   "metadata": {},
   "outputs": [],
   "source": [
    "dpwgan = DP_WGAN(input_dim, z_dim, target_epsilon=4, target_delta=1e-5)\n",
    "\n",
    "dpwgan.train(X_train, y_train, Hyperparams(batch_size=opt.batch_size, micro_batch_size=opt.micro_batch_size,\n",
    "                                            clamp_lower=opt.clamp_lower, clamp_upper=opt.clamp_upper,\n",
    "                                            clip_coeff=opt.clip_coeff, sigma=opt.sigma, class_ratios=class_ratios, lr=\n",
    "                                            5e-5, num_epochs=opt.num_epochs), private=opt.enable_privacy)"
   ]
  },
  {
   "cell_type": "code",
   "execution_count": null,
   "metadata": {},
   "outputs": [],
   "source": [
    "# evaluate performance using real data\n",
    "X = data.drop([target], axis=1)\n",
    "y = data[target]\n",
    "\n",
    "X_train, X_test, y_train, y_test = train_test_split(X, y, test_size=0.3, random_state=42)\n",
    "print('\\nTrain on real, test on real')\n",
    "real, trtr = eval_dataset(X_train, y_train, X_test, y_test) # history of values and tuple with mean"
   ]
  },
  {
   "cell_type": "code",
   "execution_count": null,
   "metadata": {},
   "outputs": [],
   "source": [
    "print(X)\n",
    "print(y)"
   ]
  },
  {
   "cell_type": "code",
   "execution_count": null,
   "metadata": {},
   "outputs": [],
   "source": []
  },
  {
   "cell_type": "code",
   "execution_count": null,
   "metadata": {},
   "outputs": [],
   "source": []
  },
  {
   "cell_type": "code",
   "execution_count": null,
   "metadata": {},
   "outputs": [],
   "source": [
    "import matplotlib.pyplot as plt\n",
    "import numpy as np\n",
    "\n",
    "metrics = ['acc', 'f1 score', 'auroc', 'auprc']\n",
    "plt.figure(figsize=(10, 5))\n",
    "X = np.arange(4)\n",
    "plt.title(\"Breast Dataset\")\n",
    "plt.bar(X + 0.00, trtr, width=0.25, color='#8FB9AA')\n",
    "plt.bar(X + 0.25, tstr_ctgan, width=0.25, color='#F2D096')\n",
    "plt.bar(X + 0.50, tstr_dpctgan, width=0.25, color='#ED8975')\n",
    "plt.xticks(X + 0.25, metrics)\n",
    "plt.legend(['Real', 'CTGAN', 'DP-CTGAN'], bbox_to_anchor=(1.05, 1), loc='upper left')\n",
    "\n",
    "plt.show()"
   ]
  }
 ],
 "metadata": {
  "kernelspec": {
   "display_name": "base",
   "language": "python",
   "name": "python3"
  },
  "language_info": {
   "codemirror_mode": {
    "name": "ipython",
    "version": 3
   },
   "file_extension": ".py",
   "mimetype": "text/x-python",
   "name": "python",
   "nbconvert_exporter": "python",
   "pygments_lexer": "ipython3",
   "version": "3.9.7"
  },
  "orig_nbformat": 4
 },
 "nbformat": 4,
 "nbformat_minor": 2
}
