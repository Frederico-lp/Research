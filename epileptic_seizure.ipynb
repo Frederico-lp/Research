{
 "cells": [
  {
   "cell_type": "code",
   "execution_count": 25,
   "metadata": {},
   "outputs": [],
   "source": [
    "from models.model_ctgan import CTGANSynthesizer\n",
    "from models.model_dpctgan import DPCTGANSynthesizer\n",
    "\n",
    "import ctgan\n",
    "from sklearn.datasets import load_breast_cancer\n",
    "from sklearn.model_selection import train_test_split\n",
    "from utils.utils import eval_dataset\n",
    "\n",
    "import matplotlib.pyplot as plt\n",
    "import numpy as np\n",
    "import pandas as pd"
   ]
  },
  {
   "cell_type": "code",
   "execution_count": 26,
   "metadata": {},
   "outputs": [
    {
     "data": {
      "text/html": [
       "<div>\n",
       "<style scoped>\n",
       "    .dataframe tbody tr th:only-of-type {\n",
       "        vertical-align: middle;\n",
       "    }\n",
       "\n",
       "    .dataframe tbody tr th {\n",
       "        vertical-align: top;\n",
       "    }\n",
       "\n",
       "    .dataframe thead th {\n",
       "        text-align: right;\n",
       "    }\n",
       "</style>\n",
       "<table border=\"1\" class=\"dataframe\">\n",
       "  <thead>\n",
       "    <tr style=\"text-align: right;\">\n",
       "      <th></th>\n",
       "      <th>X1</th>\n",
       "      <th>X2</th>\n",
       "      <th>X3</th>\n",
       "      <th>X4</th>\n",
       "      <th>X5</th>\n",
       "      <th>X6</th>\n",
       "      <th>X7</th>\n",
       "      <th>X8</th>\n",
       "      <th>X9</th>\n",
       "      <th>X10</th>\n",
       "      <th>...</th>\n",
       "      <th>X170</th>\n",
       "      <th>X171</th>\n",
       "      <th>X172</th>\n",
       "      <th>X173</th>\n",
       "      <th>X174</th>\n",
       "      <th>X175</th>\n",
       "      <th>X176</th>\n",
       "      <th>X177</th>\n",
       "      <th>X178</th>\n",
       "      <th>y</th>\n",
       "    </tr>\n",
       "  </thead>\n",
       "  <tbody>\n",
       "    <tr>\n",
       "      <th>0</th>\n",
       "      <td>135</td>\n",
       "      <td>190</td>\n",
       "      <td>229</td>\n",
       "      <td>223</td>\n",
       "      <td>192</td>\n",
       "      <td>125</td>\n",
       "      <td>55</td>\n",
       "      <td>-9</td>\n",
       "      <td>-33</td>\n",
       "      <td>-38</td>\n",
       "      <td>...</td>\n",
       "      <td>-17</td>\n",
       "      <td>-15</td>\n",
       "      <td>-31</td>\n",
       "      <td>-77</td>\n",
       "      <td>-103</td>\n",
       "      <td>-127</td>\n",
       "      <td>-116</td>\n",
       "      <td>-83</td>\n",
       "      <td>-51</td>\n",
       "      <td>0</td>\n",
       "    </tr>\n",
       "    <tr>\n",
       "      <th>1</th>\n",
       "      <td>386</td>\n",
       "      <td>382</td>\n",
       "      <td>356</td>\n",
       "      <td>331</td>\n",
       "      <td>320</td>\n",
       "      <td>315</td>\n",
       "      <td>307</td>\n",
       "      <td>272</td>\n",
       "      <td>244</td>\n",
       "      <td>232</td>\n",
       "      <td>...</td>\n",
       "      <td>164</td>\n",
       "      <td>150</td>\n",
       "      <td>146</td>\n",
       "      <td>152</td>\n",
       "      <td>157</td>\n",
       "      <td>156</td>\n",
       "      <td>154</td>\n",
       "      <td>143</td>\n",
       "      <td>129</td>\n",
       "      <td>1</td>\n",
       "    </tr>\n",
       "    <tr>\n",
       "      <th>2</th>\n",
       "      <td>-32</td>\n",
       "      <td>-39</td>\n",
       "      <td>-47</td>\n",
       "      <td>-37</td>\n",
       "      <td>-32</td>\n",
       "      <td>-36</td>\n",
       "      <td>-57</td>\n",
       "      <td>-73</td>\n",
       "      <td>-85</td>\n",
       "      <td>-94</td>\n",
       "      <td>...</td>\n",
       "      <td>57</td>\n",
       "      <td>64</td>\n",
       "      <td>48</td>\n",
       "      <td>19</td>\n",
       "      <td>-12</td>\n",
       "      <td>-30</td>\n",
       "      <td>-35</td>\n",
       "      <td>-35</td>\n",
       "      <td>-36</td>\n",
       "      <td>0</td>\n",
       "    </tr>\n",
       "    <tr>\n",
       "      <th>3</th>\n",
       "      <td>-105</td>\n",
       "      <td>-101</td>\n",
       "      <td>-96</td>\n",
       "      <td>-92</td>\n",
       "      <td>-89</td>\n",
       "      <td>-95</td>\n",
       "      <td>-102</td>\n",
       "      <td>-100</td>\n",
       "      <td>-87</td>\n",
       "      <td>-79</td>\n",
       "      <td>...</td>\n",
       "      <td>-82</td>\n",
       "      <td>-81</td>\n",
       "      <td>-80</td>\n",
       "      <td>-77</td>\n",
       "      <td>-85</td>\n",
       "      <td>-77</td>\n",
       "      <td>-72</td>\n",
       "      <td>-69</td>\n",
       "      <td>-65</td>\n",
       "      <td>0</td>\n",
       "    </tr>\n",
       "    <tr>\n",
       "      <th>4</th>\n",
       "      <td>-9</td>\n",
       "      <td>-65</td>\n",
       "      <td>-98</td>\n",
       "      <td>-102</td>\n",
       "      <td>-78</td>\n",
       "      <td>-48</td>\n",
       "      <td>-16</td>\n",
       "      <td>0</td>\n",
       "      <td>-21</td>\n",
       "      <td>-59</td>\n",
       "      <td>...</td>\n",
       "      <td>4</td>\n",
       "      <td>2</td>\n",
       "      <td>-12</td>\n",
       "      <td>-32</td>\n",
       "      <td>-41</td>\n",
       "      <td>-65</td>\n",
       "      <td>-83</td>\n",
       "      <td>-89</td>\n",
       "      <td>-73</td>\n",
       "      <td>0</td>\n",
       "    </tr>\n",
       "  </tbody>\n",
       "</table>\n",
       "<p>5 rows × 179 columns</p>\n",
       "</div>"
      ],
      "text/plain": [
       "    X1   X2   X3   X4   X5   X6   X7   X8   X9  X10  ...  X170  X171  X172  \\\n",
       "0  135  190  229  223  192  125   55   -9  -33  -38  ...   -17   -15   -31   \n",
       "1  386  382  356  331  320  315  307  272  244  232  ...   164   150   146   \n",
       "2  -32  -39  -47  -37  -32  -36  -57  -73  -85  -94  ...    57    64    48   \n",
       "3 -105 -101  -96  -92  -89  -95 -102 -100  -87  -79  ...   -82   -81   -80   \n",
       "4   -9  -65  -98 -102  -78  -48  -16    0  -21  -59  ...     4     2   -12   \n",
       "\n",
       "   X173  X174  X175  X176  X177  X178  y  \n",
       "0   -77  -103  -127  -116   -83   -51  0  \n",
       "1   152   157   156   154   143   129  1  \n",
       "2    19   -12   -30   -35   -35   -36  0  \n",
       "3   -77   -85   -77   -72   -69   -65  0  \n",
       "4   -32   -41   -65   -83   -89   -73  0  \n",
       "\n",
       "[5 rows x 179 columns]"
      ]
     },
     "execution_count": 26,
     "metadata": {},
     "output_type": "execute_result"
    }
   ],
   "source": [
    "data = pd.read_csv(\"D:\\Datasets\\epileptic\\Epileptic_Seizure_Recognition.csv\")\n",
    "data = data.drop(columns=['Unnamed'])\n",
    "data.loc[data[\"y\"] > 1 , \"y\"] = 0   #0 - seizure, >0 - no seizure\n",
    "#data[\"y\"] = pd.to_numeric(data[\"y\"])\n",
    "data.head()"
   ]
  },
  {
   "cell_type": "code",
   "execution_count": 27,
   "metadata": {},
   "outputs": [
    {
     "data": {
      "text/html": [
       "<div>\n",
       "<style scoped>\n",
       "    .dataframe tbody tr th:only-of-type {\n",
       "        vertical-align: middle;\n",
       "    }\n",
       "\n",
       "    .dataframe tbody tr th {\n",
       "        vertical-align: top;\n",
       "    }\n",
       "\n",
       "    .dataframe thead th {\n",
       "        text-align: right;\n",
       "    }\n",
       "</style>\n",
       "<table border=\"1\" class=\"dataframe\">\n",
       "  <thead>\n",
       "    <tr style=\"text-align: right;\">\n",
       "      <th></th>\n",
       "      <th>X1</th>\n",
       "      <th>X2</th>\n",
       "      <th>X3</th>\n",
       "      <th>X4</th>\n",
       "      <th>X5</th>\n",
       "      <th>X6</th>\n",
       "      <th>X7</th>\n",
       "      <th>X8</th>\n",
       "      <th>X9</th>\n",
       "      <th>X10</th>\n",
       "      <th>...</th>\n",
       "      <th>X170</th>\n",
       "      <th>X171</th>\n",
       "      <th>X172</th>\n",
       "      <th>X173</th>\n",
       "      <th>X174</th>\n",
       "      <th>X175</th>\n",
       "      <th>X176</th>\n",
       "      <th>X177</th>\n",
       "      <th>X178</th>\n",
       "      <th>y</th>\n",
       "    </tr>\n",
       "  </thead>\n",
       "  <tbody>\n",
       "    <tr>\n",
       "      <th>0</th>\n",
       "      <td>0.553717</td>\n",
       "      <td>0.571107</td>\n",
       "      <td>0.584371</td>\n",
       "      <td>0.598207</td>\n",
       "      <td>0.599275</td>\n",
       "      <td>0.526728</td>\n",
       "      <td>0.486466</td>\n",
       "      <td>0.462484</td>\n",
       "      <td>0.464883</td>\n",
       "      <td>0.467297</td>\n",
       "      <td>...</td>\n",
       "      <td>0.507684</td>\n",
       "      <td>0.554390</td>\n",
       "      <td>0.544073</td>\n",
       "      <td>0.521051</td>\n",
       "      <td>0.489858</td>\n",
       "      <td>0.454331</td>\n",
       "      <td>0.434953</td>\n",
       "      <td>0.435612</td>\n",
       "      <td>0.474893</td>\n",
       "      <td>0.0</td>\n",
       "    </tr>\n",
       "    <tr>\n",
       "      <th>1</th>\n",
       "      <td>0.624123</td>\n",
       "      <td>0.625176</td>\n",
       "      <td>0.620328</td>\n",
       "      <td>0.629447</td>\n",
       "      <td>0.637957</td>\n",
       "      <td>0.579905</td>\n",
       "      <td>0.551431</td>\n",
       "      <td>0.535948</td>\n",
       "      <td>0.536146</td>\n",
       "      <td>0.536280</td>\n",
       "      <td>...</td>\n",
       "      <td>0.557355</td>\n",
       "      <td>0.603836</td>\n",
       "      <td>0.603850</td>\n",
       "      <td>0.593542</td>\n",
       "      <td>0.562101</td>\n",
       "      <td>0.528396</td>\n",
       "      <td>0.505486</td>\n",
       "      <td>0.495495</td>\n",
       "      <td>0.522970</td>\n",
       "      <td>1.0</td>\n",
       "    </tr>\n",
       "    <tr>\n",
       "      <th>2</th>\n",
       "      <td>0.506872</td>\n",
       "      <td>0.506618</td>\n",
       "      <td>0.506229</td>\n",
       "      <td>0.522997</td>\n",
       "      <td>0.531581</td>\n",
       "      <td>0.481668</td>\n",
       "      <td>0.457592</td>\n",
       "      <td>0.445752</td>\n",
       "      <td>0.451505</td>\n",
       "      <td>0.452989</td>\n",
       "      <td>...</td>\n",
       "      <td>0.527991</td>\n",
       "      <td>0.578064</td>\n",
       "      <td>0.570753</td>\n",
       "      <td>0.551440</td>\n",
       "      <td>0.515143</td>\n",
       "      <td>0.479717</td>\n",
       "      <td>0.456113</td>\n",
       "      <td>0.448331</td>\n",
       "      <td>0.478900</td>\n",
       "      <td>0.0</td>\n",
       "    </tr>\n",
       "    <tr>\n",
       "      <th>3</th>\n",
       "      <td>0.486396</td>\n",
       "      <td>0.489158</td>\n",
       "      <td>0.492356</td>\n",
       "      <td>0.507087</td>\n",
       "      <td>0.514355</td>\n",
       "      <td>0.465155</td>\n",
       "      <td>0.445991</td>\n",
       "      <td>0.438693</td>\n",
       "      <td>0.450990</td>\n",
       "      <td>0.456822</td>\n",
       "      <td>...</td>\n",
       "      <td>0.489846</td>\n",
       "      <td>0.534612</td>\n",
       "      <td>0.527524</td>\n",
       "      <td>0.521051</td>\n",
       "      <td>0.494860</td>\n",
       "      <td>0.467417</td>\n",
       "      <td>0.446447</td>\n",
       "      <td>0.439322</td>\n",
       "      <td>0.471154</td>\n",
       "      <td>0.0</td>\n",
       "    </tr>\n",
       "    <tr>\n",
       "      <th>4</th>\n",
       "      <td>0.513324</td>\n",
       "      <td>0.499296</td>\n",
       "      <td>0.491789</td>\n",
       "      <td>0.504194</td>\n",
       "      <td>0.517679</td>\n",
       "      <td>0.478310</td>\n",
       "      <td>0.468162</td>\n",
       "      <td>0.464837</td>\n",
       "      <td>0.467970</td>\n",
       "      <td>0.461932</td>\n",
       "      <td>...</td>\n",
       "      <td>0.513447</td>\n",
       "      <td>0.559485</td>\n",
       "      <td>0.550490</td>\n",
       "      <td>0.535296</td>\n",
       "      <td>0.507085</td>\n",
       "      <td>0.470557</td>\n",
       "      <td>0.443574</td>\n",
       "      <td>0.434022</td>\n",
       "      <td>0.469017</td>\n",
       "      <td>0.0</td>\n",
       "    </tr>\n",
       "  </tbody>\n",
       "</table>\n",
       "<p>5 rows × 179 columns</p>\n",
       "</div>"
      ],
      "text/plain": [
       "         X1        X2        X3        X4        X5        X6        X7  \\\n",
       "0  0.553717  0.571107  0.584371  0.598207  0.599275  0.526728  0.486466   \n",
       "1  0.624123  0.625176  0.620328  0.629447  0.637957  0.579905  0.551431   \n",
       "2  0.506872  0.506618  0.506229  0.522997  0.531581  0.481668  0.457592   \n",
       "3  0.486396  0.489158  0.492356  0.507087  0.514355  0.465155  0.445991   \n",
       "4  0.513324  0.499296  0.491789  0.504194  0.517679  0.478310  0.468162   \n",
       "\n",
       "         X8        X9       X10  ...      X170      X171      X172      X173  \\\n",
       "0  0.462484  0.464883  0.467297  ...  0.507684  0.554390  0.544073  0.521051   \n",
       "1  0.535948  0.536146  0.536280  ...  0.557355  0.603836  0.603850  0.593542   \n",
       "2  0.445752  0.451505  0.452989  ...  0.527991  0.578064  0.570753  0.551440   \n",
       "3  0.438693  0.450990  0.456822  ...  0.489846  0.534612  0.527524  0.521051   \n",
       "4  0.464837  0.467970  0.461932  ...  0.513447  0.559485  0.550490  0.535296   \n",
       "\n",
       "       X174      X175      X176      X177      X178    y  \n",
       "0  0.489858  0.454331  0.434953  0.435612  0.474893  0.0  \n",
       "1  0.562101  0.528396  0.505486  0.495495  0.522970  1.0  \n",
       "2  0.515143  0.479717  0.456113  0.448331  0.478900  0.0  \n",
       "3  0.494860  0.467417  0.446447  0.439322  0.471154  0.0  \n",
       "4  0.507085  0.470557  0.443574  0.434022  0.469017  0.0  \n",
       "\n",
       "[5 rows x 179 columns]"
      ]
     },
     "execution_count": 27,
     "metadata": {},
     "output_type": "execute_result"
    }
   ],
   "source": [
    "#normalized_data=(data-data.mean())/data.std()\n",
    "data=(data-data.min())/(data.max()-data.min())\n",
    "data.head()"
   ]
  },
  {
   "cell_type": "code",
   "execution_count": 28,
   "metadata": {},
   "outputs": [],
   "source": [
    "target = 'y'"
   ]
  },
  {
   "cell_type": "code",
   "execution_count": 29,
   "metadata": {},
   "outputs": [],
   "source": [
    "X = data.drop(columns=[target])\n",
    "#normalize data\n",
    "#X=(X-X.mean())/X.std()\n",
    "y = data[target]"
   ]
  },
  {
   "cell_type": "code",
   "execution_count": 30,
   "metadata": {},
   "outputs": [],
   "source": [
    "model_ctgan = CTGANSynthesizer(epochs=5)\n",
    "model_ctgan.fit(data)"
   ]
  },
  {
   "cell_type": "code",
   "execution_count": 62,
   "metadata": {},
   "outputs": [],
   "source": [
    "samples = model_ctgan.sample(len(data))  # Synthetic copy\n",
    "samples.dropna(how='any', inplace=True)\n",
    "\n",
    "X_syn = samples.drop(columns=[target])\n",
    "y_syn = samples[target]\n",
    "y_syn = y_syn.round(0)\n",
    "y_syn = y_syn.astype(int)"
   ]
  },
  {
   "cell_type": "code",
   "execution_count": 32,
   "metadata": {},
   "outputs": [],
   "source": [
    "#normalized_samples=(samples-samples.min())/(samples.max()-samples.min())"
   ]
  },
  {
   "attachments": {},
   "cell_type": "markdown",
   "metadata": {},
   "source": [
    "## Privacy"
   ]
  },
  {
   "cell_type": "code",
   "execution_count": 33,
   "metadata": {},
   "outputs": [],
   "source": [
    "import numpy as np\n",
    "\n",
    "def get_nearest(src_point, candidates):\n",
    "    min_dist = 1000\n",
    "    min_index = 0\n",
    "    for i in range(len(candidates)):\n",
    "        dist = np.linalg.norm(src_point - candidates.iloc[[i]])\n",
    "        print(candidates.iloc[[i]])\n",
    "        print(\"{:.2f}\".format(dist))\n",
    "        if dist < min_dist:\n",
    "            min_dist = dist\n",
    "            min_index = i\n",
    "\n",
    "    return min_index, min_dist"
   ]
  },
  {
   "cell_type": "code",
   "execution_count": 34,
   "metadata": {},
   "outputs": [],
   "source": [
    "from sklearn.neighbors import BallTree\n",
    "\n",
    "def get_nearest(src_points, candidates, k_neighbors=1):\n",
    "    '''\n",
    "    Find nearest neighbors for all source points from a set of candidate points\n",
    "    '''\n",
    "    # Create tree from the candidate points\n",
    "    #knn = NearestNeighbors(n_neighbors=3)\n",
    "    tree = BallTree(candidates, leaf_size=15, metric='euclidean')\n",
    "    # Find closest points and distances\n",
    "    distances, indices = tree.query(src_points, k=k_neighbors)\n",
    "    # Transpose to get distances and indices into arrays\n",
    "    distances = distances.transpose()\n",
    "    indices = indices.transpose()\n",
    "    # Get closest indices and distances (i.e. array at index 0)\n",
    "    # note: for the second closest points, you would take index 1, etc.\n",
    "    closest = indices[0]\n",
    "    closest_dist = distances[0]\n",
    "    # Return indices and distances\n",
    "    return closest, closest_dist"
   ]
  },
  {
   "cell_type": "code",
   "execution_count": 35,
   "metadata": {},
   "outputs": [],
   "source": [
    "def avg_dist(src_points, candidates):\n",
    "    sum_dist = 0\n",
    "    for i in range(len(src_points)):\n",
    "        index, dist = get_nearest(src_points.iloc[[i]], candidates)\n",
    "        sum_dist += dist\n",
    "        \n",
    "    return sum_dist/i \n"
   ]
  },
  {
   "cell_type": "code",
   "execution_count": 36,
   "metadata": {},
   "outputs": [],
   "source": [
    "samples = samples.apply(pd.to_numeric) # convert all columns of DataFrame\n",
    "data = data.apply(pd.to_numeric) # convert all columns of DataFrame"
   ]
  },
  {
   "cell_type": "code",
   "execution_count": 37,
   "metadata": {},
   "outputs": [
    {
     "name": "stdout",
     "output_type": "stream",
     "text": [
      "[5070] [0.82716482]\n"
     ]
    }
   ],
   "source": [
    "# example\n",
    "closest, dist = get_nearest(samples.iloc[[0]], data)\n",
    "print(closest, dist)"
   ]
  },
  {
   "cell_type": "code",
   "execution_count": 38,
   "metadata": {},
   "outputs": [],
   "source": [
    "avg_distance = avg_dist(samples[:1000], data[:1000])"
   ]
  },
  {
   "cell_type": "code",
   "execution_count": 39,
   "metadata": {},
   "outputs": [
    {
     "name": "stdout",
     "output_type": "stream",
     "text": [
      "[0.9039897]\n"
     ]
    }
   ],
   "source": [
    "print(avg_distance)"
   ]
  },
  {
   "cell_type": "code",
   "execution_count": 40,
   "metadata": {},
   "outputs": [
    {
     "name": "stdout",
     "output_type": "stream",
     "text": [
      "[0.06756736]\n"
     ]
    }
   ],
   "source": [
    "# the maximum possible distance between two normalized vectors is sqrt(n), so you would divide the Euclidean distance between the two vectors by sqrt(n)\n",
    "# Ex: 2D space, the maximum distance between two points is the square root of 2 \n",
    "normalized_avg_distance = avg_distance/np.sqrt(len(data.columns))\n",
    "print(normalized_avg_distance)"
   ]
  },
  {
   "attachments": {},
   "cell_type": "markdown",
   "metadata": {},
   "source": [
    "## Fidelity"
   ]
  },
  {
   "cell_type": "code",
   "execution_count": 41,
   "metadata": {},
   "outputs": [],
   "source": [
    "from sklearn.ensemble import AdaBoostClassifier, RandomForestClassifier\n",
    "\n",
    "def get_predictions(X_train, y_train, X_test, y_test):\n",
    "    learners = [(AdaBoostClassifier(n_estimators=50))]\n",
    "    #learners = [(RandomForestClassifier())]\n",
    "\n",
    "    history = dict()\n",
    "\n",
    "    for i in range(len(learners)):\n",
    "        model = learners[i]\n",
    "        model.fit(X_train, y_train)\n",
    "\n",
    "        #first letter is data where it trained, second is data where it tested\n",
    "        pred = []\n",
    "\n",
    "        for j in range (len(X_test)):\n",
    "            #print(X_test.loc[[j]])\n",
    "            pred.append(model.predict(X_test.iloc[[j]]))\n",
    "        \n",
    "    return pred"
   ]
  },
  {
   "cell_type": "code",
   "execution_count": 65,
   "metadata": {},
   "outputs": [],
   "source": [
    "X_train, X_test, y_train, y_test = train_test_split(X, y, test_size=0.3, random_state=42)\n",
    "\n",
    "X_syn_train, X_syn_test, y_syn_train, y_syn_test = train_test_split(X_syn, y_syn, test_size=0.3, random_state=42)\n",
    "\n",
    "rr_pred = []\n",
    "fr_pred = []\n",
    "ff_pred = []\n",
    "rf_pred = []\n",
    "\n",
    "rr_pred = get_predictions(X_train, y_train, X_test, y_test)\n",
    "fr_pred = get_predictions(X_syn_train, y_syn_train, X_test, y_test)"
   ]
  },
  {
   "cell_type": "code",
   "execution_count": 66,
   "metadata": {},
   "outputs": [],
   "source": [
    "rf_pred = get_predictions(X_train, y_train, X_syn_test, y_syn_test)\n",
    "ff_pred = get_predictions(X_syn_train, y_syn_train, X_syn_test, y_syn_test)"
   ]
  },
  {
   "cell_type": "code",
   "execution_count": 67,
   "metadata": {},
   "outputs": [
    {
     "data": {
      "image/png": "[encoded data removed]",
      "text/plain": [
       "<Figure size 432x288 with 2 Axes>"
      ]
     },
     "metadata": {
      "needs_background": "light"
     },
     "output_type": "display_data"
    },
    {
     "data": {
      "image/png": "[encoded data removed]",
      "text/plain": [
       "<Figure size 432x288 with 2 Axes>"
      ]
     },
     "metadata": {
      "needs_background": "light"
     },
     "output_type": "display_data"
    }
   ],
   "source": [
    "from sklearn import metrics\n",
    "def print_confusion_matrix(rr_pred, fr_pred, rf_pred, ff_pred):\n",
    "    confusion_matrix1 = metrics.confusion_matrix(rr_pred, fr_pred)\n",
    "    confusion_matrix2 = metrics.confusion_matrix(fr_pred, ff_pred)\n",
    "\n",
    "    cm_display1 = metrics.ConfusionMatrixDisplay(confusion_matrix = confusion_matrix1, display_labels = [False, True])\n",
    "    cm_display2 = metrics.ConfusionMatrixDisplay(confusion_matrix = confusion_matrix2, display_labels = [False, True])\n",
    "\n",
    "    cm_display1.plot()\n",
    "    cm_display2.plot()\n",
    "    plt.show()\n",
    "    \n",
    "print_confusion_matrix(rr_pred, fr_pred, rf_pred, ff_pred)"
   ]
  },
  {
   "cell_type": "code",
   "execution_count": 68,
   "metadata": {},
   "outputs": [],
   "source": [
    "def eval_fidelity(pred1, pred2):\n",
    "    same_pred = 0\n",
    "    dif_pred = 0\n",
    "    if len(pred1) != len(pred2):\n",
    "        print(\"Error: different sizes\")\n",
    "    \n",
    "    for i in range(len(pred1)):\n",
    "        if pred1[i] == pred2[i]:\n",
    "            same_pred += 1\n",
    "        else:\n",
    "            dif_pred += 1\n",
    "\n",
    "    return same_pred, dif_pred\n"
   ]
  },
  {
   "cell_type": "code",
   "execution_count": 69,
   "metadata": {},
   "outputs": [],
   "source": [
    "same_pred, dif_pred = eval_fidelity(rr_pred, fr_pred)"
   ]
  },
  {
   "cell_type": "code",
   "execution_count": 70,
   "metadata": {},
   "outputs": [
    {
     "name": "stdout",
     "output_type": "stream",
     "text": [
      "2731 719\n"
     ]
    }
   ],
   "source": [
    "print(same_pred, dif_pred)"
   ]
  },
  {
   "cell_type": "code",
   "execution_count": 71,
   "metadata": {},
   "outputs": [],
   "source": [
    "percentage = same_pred / (same_pred + dif_pred)"
   ]
  },
  {
   "attachments": {},
   "cell_type": "markdown",
   "metadata": {},
   "source": [
    "## Final plot"
   ]
  },
  {
   "cell_type": "code",
   "execution_count": 82,
   "metadata": {},
   "outputs": [
    {
     "data": {
      "image/png": "[encoded data removed]",
      "text/plain": [
       "<Figure size 432x288 with 1 Axes>"
      ]
     },
     "metadata": {
      "needs_background": "light"
     },
     "output_type": "display_data"
    }
   ],
   "source": [
    "plt.scatter(percentage, normalized_avg_distance, c =\"blue\")\n",
    "plt.xlabel(\"fidelity\")\n",
    "plt.ylabel(\"privacy\")\n",
    "plt.show()"
   ]
  }
 ],
 "metadata": {
  "kernelspec": {
   "display_name": "base",
   "language": "python",
   "name": "python3"
  },
  "language_info": {
   "codemirror_mode": {
    "name": "ipython",
    "version": 3
   },
   "file_extension": ".py",
   "mimetype": "text/x-python",
   "name": "python",
   "nbconvert_exporter": "python",
   "pygments_lexer": "ipython3",
   "version": "3.9.7"
  },
  "orig_nbformat": 4
 },
 "nbformat": 4,
 "nbformat_minor": 2
}
